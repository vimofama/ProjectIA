{
 "cells": [
  {
   "cell_type": "code",
   "execution_count": 3,
   "id": "initial_id",
   "metadata": {
    "tags": [],
    "ExecuteTime": {
     "end_time": "2023-08-23T15:00:14.048075Z",
     "start_time": "2023-08-23T15:00:13.712603900Z"
    }
   },
   "outputs": [],
   "source": [
    "import pandas as pd"
   ]
  },
  {
   "cell_type": "code",
   "execution_count": 4,
   "id": "c05ad76e2f70bd2e",
   "metadata": {
    "collapsed": false,
    "tags": [],
    "ExecuteTime": {
     "end_time": "2023-08-23T15:00:30.337566800Z",
     "start_time": "2023-08-23T15:00:13.723801500Z"
    }
   },
   "outputs": [],
   "source": [
    "data = pd.read_csv('esi_2022.csv')"
   ]
  },
  {
   "cell_type": "code",
   "execution_count": 5,
   "id": "b2b072114b033fdb",
   "metadata": {
    "collapsed": false,
    "tags": [],
    "ExecuteTime": {
     "end_time": "2023-08-23T15:00:30.388852400Z",
     "start_time": "2023-08-23T15:00:30.325225700Z"
    }
   },
   "outputs": [
    {
     "data": {
      "text/plain": "(5052633, 1)"
     },
     "execution_count": 5,
     "metadata": {},
     "output_type": "execute_result"
    }
   ],
   "source": [
    "data.shape"
   ]
  },
  {
   "cell_type": "code",
   "execution_count": 6,
   "id": "78ac32fba2f597a0",
   "metadata": {
    "collapsed": false,
    "tags": [],
    "ExecuteTime": {
     "end_time": "2023-08-23T15:00:30.595379200Z",
     "start_time": "2023-08-23T15:00:30.356440Z"
    }
   },
   "outputs": [
    {
     "data": {
      "text/plain": "  ;\"tip_movi\";\"tip_naci\";\"anio_movi\";\"mes_movi\";\"dia_movi\";\"sex_migr\";\"nac_migr\";\"subcont_nac\";\"cont_nac\";\"via_tran\";\"mot_viam\";\"pais_prod\";\"subcont_prod\";\"cont_prod\";\"lug_prod\";\"pais_res\";\"subcont_res\";\"cont_res\";\"jef_migr\";\"pro_jefm\";\"can_jefm\";\"cla_migr\";\"ocu_migr\";\"edad\"\n0  1;2;1;2022;4;20;2;218;13;1;1;5;32;13;1;32017;3...                                                                                                                                                                                                                               \n1  2;1;1;2022;5;26;2;218;13;1;1;5;756;24;2;756006...                                                                                                                                                                                                                               \n2  3;2;1;2022;12;8;1;218;13;1;2;5;170;13;1;170010...                                                                                                                                                                                                                               \n3  4;2;1;2022;10;3;1;218;13;1;1;1;840;11;1;840095...                                                                                                                                                                                                                               \n4  5;1;1;2022;2;1;2;218;13;1;1;5;724;23;2;724045;...                                                                                                                                                                                                                               ",
      "text/html": "<div>\n<style scoped>\n    .dataframe tbody tr th:only-of-type {\n        vertical-align: middle;\n    }\n\n    .dataframe tbody tr th {\n        vertical-align: top;\n    }\n\n    .dataframe thead th {\n        text-align: right;\n    }\n</style>\n<table border=\"1\" class=\"dataframe\">\n  <thead>\n    <tr style=\"text-align: right;\">\n      <th></th>\n      <th>;\"tip_movi\";\"tip_naci\";\"anio_movi\";\"mes_movi\";\"dia_movi\";\"sex_migr\";\"nac_migr\";\"subcont_nac\";\"cont_nac\";\"via_tran\";\"mot_viam\";\"pais_prod\";\"subcont_prod\";\"cont_prod\";\"lug_prod\";\"pais_res\";\"subcont_res\";\"cont_res\";\"jef_migr\";\"pro_jefm\";\"can_jefm\";\"cla_migr\";\"ocu_migr\";\"edad\"</th>\n    </tr>\n  </thead>\n  <tbody>\n    <tr>\n      <th>0</th>\n      <td>1;2;1;2022;4;20;2;218;13;1;1;5;32;13;1;32017;3...</td>\n    </tr>\n    <tr>\n      <th>1</th>\n      <td>2;1;1;2022;5;26;2;218;13;1;1;5;756;24;2;756006...</td>\n    </tr>\n    <tr>\n      <th>2</th>\n      <td>3;2;1;2022;12;8;1;218;13;1;2;5;170;13;1;170010...</td>\n    </tr>\n    <tr>\n      <th>3</th>\n      <td>4;2;1;2022;10;3;1;218;13;1;1;1;840;11;1;840095...</td>\n    </tr>\n    <tr>\n      <th>4</th>\n      <td>5;1;1;2022;2;1;2;218;13;1;1;5;724;23;2;724045;...</td>\n    </tr>\n  </tbody>\n</table>\n</div>"
     },
     "execution_count": 6,
     "metadata": {},
     "output_type": "execute_result"
    }
   ],
   "source": [
    "data.head(5)"
   ]
  },
  {
   "cell_type": "code",
   "execution_count": 7,
   "id": "c95fb754bc54fb3f",
   "metadata": {
    "collapsed": false,
    "tags": [],
    "ExecuteTime": {
     "end_time": "2023-08-23T15:00:30.633131900Z",
     "start_time": "2023-08-23T15:00:30.384642500Z"
    }
   },
   "outputs": [
    {
     "name": "stdout",
     "output_type": "stream",
     "text": [
      "<class 'pandas.core.frame.DataFrame'>\n",
      "RangeIndex: 5052633 entries, 0 to 5052632\n",
      "Data columns (total 1 columns):\n",
      " #   Column                                                                                                                                                                                                                                                                             Dtype \n",
      "---  ------                                                                                                                                                                                                                                                                             ----- \n",
      " 0   ;\"tip_movi\";\"tip_naci\";\"anio_movi\";\"mes_movi\";\"dia_movi\";\"sex_migr\";\"nac_migr\";\"subcont_nac\";\"cont_nac\";\"via_tran\";\"mot_viam\";\"pais_prod\";\"subcont_prod\";\"cont_prod\";\"lug_prod\";\"pais_res\";\"subcont_res\";\"cont_res\";\"jef_migr\";\"pro_jefm\";\"can_jefm\";\"cla_migr\";\"ocu_migr\";\"edad\"  object\n",
      "dtypes: object(1)\n",
      "memory usage: 38.5+ MB\n"
     ]
    }
   ],
   "source": [
    "data.info()"
   ]
  },
  {
   "cell_type": "code",
   "execution_count": 8,
   "id": "b03e3995-e65a-4c25-b835-af33744b644b",
   "metadata": {
    "tags": [],
    "ExecuteTime": {
     "end_time": "2023-08-23T15:00:30.640269500Z",
     "start_time": "2023-08-23T15:00:30.415900400Z"
    }
   },
   "outputs": [
    {
     "data": {
      "text/plain": "Index([';\"tip_movi\";\"tip_naci\";\"anio_movi\";\"mes_movi\";\"dia_movi\";\"sex_migr\";\"nac_migr\";\"subcont_nac\";\"cont_nac\";\"via_tran\";\"mot_viam\";\"pais_prod\";\"subcont_prod\";\"cont_prod\";\"lug_prod\";\"pais_res\";\"subcont_res\";\"cont_res\";\"jef_migr\";\"pro_jefm\";\"can_jefm\";\"cla_migr\";\"ocu_migr\";\"edad\"'], dtype='object')"
     },
     "execution_count": 8,
     "metadata": {},
     "output_type": "execute_result"
    }
   ],
   "source": [
    "data.columns"
   ]
  },
  {
   "cell_type": "code",
   "execution_count": 9,
   "id": "cac54130-66c7-48b7-84fa-5473436b2ed0",
   "metadata": {
    "tags": [],
    "ExecuteTime": {
     "end_time": "2023-08-23T15:02:10.815086300Z",
     "start_time": "2023-08-23T15:00:30.428178700Z"
    }
   },
   "outputs": [
    {
     "data": {
      "text/plain": "(5052633, 25)"
     },
     "execution_count": 9,
     "metadata": {},
     "output_type": "execute_result"
    }
   ],
   "source": [
    "data = data[';\"tip_movi\";\"tip_naci\";\"anio_movi\";\"mes_movi\";\"dia_movi\";\"sex_migr\";\"nac_migr\";\"subcont_nac\";\"cont_nac\";\"via_tran\";\"mot_viam\";\"pais_prod\";\"subcont_prod\";\"cont_prod\";\"lug_prod\";\"pais_res\";\"subcont_res\";\"cont_res\";\"jef_migr\";\"pro_jefm\";\"can_jefm\";\"cla_migr\";\"ocu_migr\";\"edad\"'].str.split(';', expand=True)\n",
    "data.shape"
   ]
  },
  {
   "cell_type": "code",
   "execution_count": 10,
   "id": "54133490-6350-41c9-be10-9d9c0974e424",
   "metadata": {
    "tags": [],
    "ExecuteTime": {
     "end_time": "2023-08-23T15:02:11.132192600Z",
     "start_time": "2023-08-23T15:02:10.841863800Z"
    }
   },
   "outputs": [
    {
     "data": {
      "text/plain": "0     object\n1     object\n2     object\n3     object\n4     object\n5     object\n6     object\n7     object\n8     object\n9     object\n10    object\n11    object\n12    object\n13    object\n14    object\n15    object\n16    object\n17    object\n18    object\n19    object\n20    object\n21    object\n22    object\n23    object\n24    object\ndtype: object"
     },
     "execution_count": 10,
     "metadata": {},
     "output_type": "execute_result"
    }
   ],
   "source": [
    "data.dtypes"
   ]
  },
  {
   "cell_type": "code",
   "execution_count": 11,
   "id": "44bc08fa-a55f-4894-badb-251170a0219e",
   "metadata": {
    "tags": [],
    "ExecuteTime": {
     "end_time": "2023-08-23T15:02:11.391806200Z",
     "start_time": "2023-08-23T15:02:10.924111100Z"
    }
   },
   "outputs": [
    {
     "data": {
      "text/plain": "  0  1  2     3   4   5  6    7   8  9   ...      15   16  17 18  19  20  \\\n0  1  2  1  2022   4  20  2  218  13  1  ...   32017   32  13  1   1  17   \n1  2  1  1  2022   5  26  2  218  13  1  ...  756006  218  13  1   1  17   \n2  3  2  1  2022  12   8  1  218  13  1  ...  170010  218  13  1  11   4   \n\n     21  22     23  24  \n0  1701  88  66666  23  \n1  1701  88  55555  68  \n2   401  88  88888  14  \n\n[3 rows x 25 columns]",
      "text/html": "<div>\n<style scoped>\n    .dataframe tbody tr th:only-of-type {\n        vertical-align: middle;\n    }\n\n    .dataframe tbody tr th {\n        vertical-align: top;\n    }\n\n    .dataframe thead th {\n        text-align: right;\n    }\n</style>\n<table border=\"1\" class=\"dataframe\">\n  <thead>\n    <tr style=\"text-align: right;\">\n      <th></th>\n      <th>0</th>\n      <th>1</th>\n      <th>2</th>\n      <th>3</th>\n      <th>4</th>\n      <th>5</th>\n      <th>6</th>\n      <th>7</th>\n      <th>8</th>\n      <th>9</th>\n      <th>...</th>\n      <th>15</th>\n      <th>16</th>\n      <th>17</th>\n      <th>18</th>\n      <th>19</th>\n      <th>20</th>\n      <th>21</th>\n      <th>22</th>\n      <th>23</th>\n      <th>24</th>\n    </tr>\n  </thead>\n  <tbody>\n    <tr>\n      <th>0</th>\n      <td>1</td>\n      <td>2</td>\n      <td>1</td>\n      <td>2022</td>\n      <td>4</td>\n      <td>20</td>\n      <td>2</td>\n      <td>218</td>\n      <td>13</td>\n      <td>1</td>\n      <td>...</td>\n      <td>32017</td>\n      <td>32</td>\n      <td>13</td>\n      <td>1</td>\n      <td>1</td>\n      <td>17</td>\n      <td>1701</td>\n      <td>88</td>\n      <td>66666</td>\n      <td>23</td>\n    </tr>\n    <tr>\n      <th>1</th>\n      <td>2</td>\n      <td>1</td>\n      <td>1</td>\n      <td>2022</td>\n      <td>5</td>\n      <td>26</td>\n      <td>2</td>\n      <td>218</td>\n      <td>13</td>\n      <td>1</td>\n      <td>...</td>\n      <td>756006</td>\n      <td>218</td>\n      <td>13</td>\n      <td>1</td>\n      <td>1</td>\n      <td>17</td>\n      <td>1701</td>\n      <td>88</td>\n      <td>55555</td>\n      <td>68</td>\n    </tr>\n    <tr>\n      <th>2</th>\n      <td>3</td>\n      <td>2</td>\n      <td>1</td>\n      <td>2022</td>\n      <td>12</td>\n      <td>8</td>\n      <td>1</td>\n      <td>218</td>\n      <td>13</td>\n      <td>1</td>\n      <td>...</td>\n      <td>170010</td>\n      <td>218</td>\n      <td>13</td>\n      <td>1</td>\n      <td>11</td>\n      <td>4</td>\n      <td>401</td>\n      <td>88</td>\n      <td>88888</td>\n      <td>14</td>\n    </tr>\n  </tbody>\n</table>\n<p>3 rows × 25 columns</p>\n</div>"
     },
     "execution_count": 11,
     "metadata": {},
     "output_type": "execute_result"
    }
   ],
   "source": [
    "data.head(3)"
   ]
  },
  {
   "cell_type": "code",
   "execution_count": 12,
   "id": "90c01db6-960a-4f03-b30f-5bdbfc73c65c",
   "metadata": {
    "tags": [],
    "ExecuteTime": {
     "end_time": "2023-08-23T15:02:12.196062100Z",
     "start_time": "2023-08-23T15:02:11.029101200Z"
    }
   },
   "outputs": [
    {
     "data": {
      "text/plain": "  indice tip_movi tip_naci anio_movi mes_movi dia_movi sex_migr nac_migr  \\\n0      1        2        1      2022        4       20        2      218   \n1      2        1        1      2022        5       26        2      218   \n2      3        2        1      2022       12        8        1      218   \n\n  subcont_nac cont_nac  ... lug_prod pais_res subcont_res cont_res jef_migr  \\\n0          13        1  ...    32017       32          13        1        1   \n1          13        1  ...   756006      218          13        1        1   \n2          13        1  ...   170010      218          13        1       11   \n\n  pro_jefm can_jefm cla_migr ocu_migr edad  \n0       17     1701       88    66666   23  \n1       17     1701       88    55555   68  \n2        4      401       88    88888   14  \n\n[3 rows x 25 columns]",
      "text/html": "<div>\n<style scoped>\n    .dataframe tbody tr th:only-of-type {\n        vertical-align: middle;\n    }\n\n    .dataframe tbody tr th {\n        vertical-align: top;\n    }\n\n    .dataframe thead th {\n        text-align: right;\n    }\n</style>\n<table border=\"1\" class=\"dataframe\">\n  <thead>\n    <tr style=\"text-align: right;\">\n      <th></th>\n      <th>indice</th>\n      <th>tip_movi</th>\n      <th>tip_naci</th>\n      <th>anio_movi</th>\n      <th>mes_movi</th>\n      <th>dia_movi</th>\n      <th>sex_migr</th>\n      <th>nac_migr</th>\n      <th>subcont_nac</th>\n      <th>cont_nac</th>\n      <th>...</th>\n      <th>lug_prod</th>\n      <th>pais_res</th>\n      <th>subcont_res</th>\n      <th>cont_res</th>\n      <th>jef_migr</th>\n      <th>pro_jefm</th>\n      <th>can_jefm</th>\n      <th>cla_migr</th>\n      <th>ocu_migr</th>\n      <th>edad</th>\n    </tr>\n  </thead>\n  <tbody>\n    <tr>\n      <th>0</th>\n      <td>1</td>\n      <td>2</td>\n      <td>1</td>\n      <td>2022</td>\n      <td>4</td>\n      <td>20</td>\n      <td>2</td>\n      <td>218</td>\n      <td>13</td>\n      <td>1</td>\n      <td>...</td>\n      <td>32017</td>\n      <td>32</td>\n      <td>13</td>\n      <td>1</td>\n      <td>1</td>\n      <td>17</td>\n      <td>1701</td>\n      <td>88</td>\n      <td>66666</td>\n      <td>23</td>\n    </tr>\n    <tr>\n      <th>1</th>\n      <td>2</td>\n      <td>1</td>\n      <td>1</td>\n      <td>2022</td>\n      <td>5</td>\n      <td>26</td>\n      <td>2</td>\n      <td>218</td>\n      <td>13</td>\n      <td>1</td>\n      <td>...</td>\n      <td>756006</td>\n      <td>218</td>\n      <td>13</td>\n      <td>1</td>\n      <td>1</td>\n      <td>17</td>\n      <td>1701</td>\n      <td>88</td>\n      <td>55555</td>\n      <td>68</td>\n    </tr>\n    <tr>\n      <th>2</th>\n      <td>3</td>\n      <td>2</td>\n      <td>1</td>\n      <td>2022</td>\n      <td>12</td>\n      <td>8</td>\n      <td>1</td>\n      <td>218</td>\n      <td>13</td>\n      <td>1</td>\n      <td>...</td>\n      <td>170010</td>\n      <td>218</td>\n      <td>13</td>\n      <td>1</td>\n      <td>11</td>\n      <td>4</td>\n      <td>401</td>\n      <td>88</td>\n      <td>88888</td>\n      <td>14</td>\n    </tr>\n  </tbody>\n</table>\n<p>3 rows × 25 columns</p>\n</div>"
     },
     "execution_count": 12,
     "metadata": {},
     "output_type": "execute_result"
    }
   ],
   "source": [
    "nuevos_nombres = [\n",
    "    'indice','tip_movi', 'tip_naci', 'anio_movi', 'mes_movi', 'dia_movi', 'sex_migr', 'nac_migr', 'subcont_nac',\n",
    "    'cont_nac', 'via_tran', 'mot_viam', 'pais_prod', 'subcont_prod', 'cont_prod', 'lug_prod', 'pais_res',\n",
    "    'subcont_res', 'cont_res', 'jef_migr', 'pro_jefm', 'can_jefm', 'cla_migr', 'ocu_migr', 'edad'\n",
    "]\n",
    "data.columns = nuevos_nombres\n",
    "data.head(3)"
   ]
  },
  {
   "cell_type": "code",
   "execution_count": 13,
   "id": "492961d6-78ef-4097-9bb0-b55897619ceb",
   "metadata": {
    "tags": [],
    "ExecuteTime": {
     "end_time": "2023-08-23T15:02:12.629539100Z",
     "start_time": "2023-08-23T15:02:11.083277500Z"
    }
   },
   "outputs": [
    {
     "data": {
      "text/plain": "Index(['indice', 'tip_movi', 'tip_naci', 'anio_movi', 'mes_movi', 'dia_movi',\n       'sex_migr', 'nac_migr', 'subcont_nac', 'cont_nac', 'via_tran',\n       'mot_viam', 'pais_prod', 'subcont_prod', 'cont_prod', 'lug_prod',\n       'pais_res', 'subcont_res', 'cont_res', 'jef_migr', 'pro_jefm',\n       'can_jefm', 'cla_migr', 'ocu_migr', 'edad'],\n      dtype='object')"
     },
     "execution_count": 13,
     "metadata": {},
     "output_type": "execute_result"
    }
   ],
   "source": [
    "data.columns"
   ]
  },
  {
   "cell_type": "code",
   "execution_count": 14,
   "id": "5ba84a8e-9ae2-47fa-9861-772d3a8c97e4",
   "metadata": {
    "tags": [],
    "ExecuteTime": {
     "end_time": "2023-08-23T15:02:13.165561900Z",
     "start_time": "2023-08-23T15:02:11.103875200Z"
    }
   },
   "outputs": [],
   "source": [
    "columnasEliminar = [\"indice\", \"sex_migr\", \"nac_migr\", \"subcont_nac\", \"subcont_nac\", \"subcont_prod\", \"cont_prod\", \"lug_prod\", \"pais_res\", \"subcont_res\", \"cont_res\", \"jef_migr\", \"pro_jefm\", \"can_jefm\", \"cla_migr\", \"ocu_migr\", \"edad\"]\n",
    "data = data.drop(columns=columnasEliminar)"
   ]
  },
  {
   "cell_type": "code",
   "execution_count": 15,
   "id": "14024d1d-4f46-4eb7-a60b-3d6f6bd08cf3",
   "metadata": {
    "tags": [],
    "ExecuteTime": {
     "end_time": "2023-08-23T15:02:13.320606Z",
     "start_time": "2023-08-23T15:02:12.647227200Z"
    }
   },
   "outputs": [
    {
     "data": {
      "text/plain": "  tip_movi tip_naci anio_movi mes_movi dia_movi cont_nac via_tran mot_viam  \\\n0        2        1      2022        4       20        1        1        5   \n1        1        1      2022        5       26        1        1        5   \n2        2        1      2022       12        8        1        2        5   \n3        2        1      2022       10        3        1        1        1   \n4        1        1      2022        2        1        1        1        5   \n\n  pais_prod  \n0        32  \n1       756  \n2       170  \n3       840  \n4       724  ",
      "text/html": "<div>\n<style scoped>\n    .dataframe tbody tr th:only-of-type {\n        vertical-align: middle;\n    }\n\n    .dataframe tbody tr th {\n        vertical-align: top;\n    }\n\n    .dataframe thead th {\n        text-align: right;\n    }\n</style>\n<table border=\"1\" class=\"dataframe\">\n  <thead>\n    <tr style=\"text-align: right;\">\n      <th></th>\n      <th>tip_movi</th>\n      <th>tip_naci</th>\n      <th>anio_movi</th>\n      <th>mes_movi</th>\n      <th>dia_movi</th>\n      <th>cont_nac</th>\n      <th>via_tran</th>\n      <th>mot_viam</th>\n      <th>pais_prod</th>\n    </tr>\n  </thead>\n  <tbody>\n    <tr>\n      <th>0</th>\n      <td>2</td>\n      <td>1</td>\n      <td>2022</td>\n      <td>4</td>\n      <td>20</td>\n      <td>1</td>\n      <td>1</td>\n      <td>5</td>\n      <td>32</td>\n    </tr>\n    <tr>\n      <th>1</th>\n      <td>1</td>\n      <td>1</td>\n      <td>2022</td>\n      <td>5</td>\n      <td>26</td>\n      <td>1</td>\n      <td>1</td>\n      <td>5</td>\n      <td>756</td>\n    </tr>\n    <tr>\n      <th>2</th>\n      <td>2</td>\n      <td>1</td>\n      <td>2022</td>\n      <td>12</td>\n      <td>8</td>\n      <td>1</td>\n      <td>2</td>\n      <td>5</td>\n      <td>170</td>\n    </tr>\n    <tr>\n      <th>3</th>\n      <td>2</td>\n      <td>1</td>\n      <td>2022</td>\n      <td>10</td>\n      <td>3</td>\n      <td>1</td>\n      <td>1</td>\n      <td>1</td>\n      <td>840</td>\n    </tr>\n    <tr>\n      <th>4</th>\n      <td>1</td>\n      <td>1</td>\n      <td>2022</td>\n      <td>2</td>\n      <td>1</td>\n      <td>1</td>\n      <td>1</td>\n      <td>5</td>\n      <td>724</td>\n    </tr>\n  </tbody>\n</table>\n</div>"
     },
     "execution_count": 15,
     "metadata": {},
     "output_type": "execute_result"
    }
   ],
   "source": [
    "data.head()"
   ]
  },
  {
   "cell_type": "code",
   "execution_count": 16,
   "id": "3bb41330-458c-49b0-b810-948cac8ab692",
   "metadata": {
    "tags": [],
    "ExecuteTime": {
     "end_time": "2023-08-23T15:02:13.343761900Z",
     "start_time": "2023-08-23T15:02:12.675224300Z"
    }
   },
   "outputs": [
    {
     "data": {
      "text/plain": "(5052633, 9)"
     },
     "execution_count": 16,
     "metadata": {},
     "output_type": "execute_result"
    }
   ],
   "source": [
    "data.shape"
   ]
  },
  {
   "cell_type": "code",
   "execution_count": 17,
   "id": "156078d6-7b2e-41cf-b4bd-49a6b03c0911",
   "metadata": {
    "tags": [],
    "ExecuteTime": {
     "end_time": "2023-08-23T15:02:32.737040800Z",
     "start_time": "2023-08-23T15:02:12.697193200Z"
    }
   },
   "outputs": [
    {
     "name": "stdout",
     "output_type": "stream",
     "text": [
      "         tip_movi  tip_naci  anio_movi  mes_movi  dia_movi  cont_nac  \\\n",
      "0           False     False      False     False     False     False   \n",
      "1           False     False      False     False     False     False   \n",
      "2           False     False      False     False     False     False   \n",
      "3           False     False      False     False     False     False   \n",
      "4           False     False      False     False     False     False   \n",
      "...           ...       ...        ...       ...       ...       ...   \n",
      "5052628     False     False      False     False     False     False   \n",
      "5052629     False     False      False     False     False     False   \n",
      "5052630     False     False      False     False     False     False   \n",
      "5052631     False     False      False     False     False     False   \n",
      "5052632     False     False      False     False     False     False   \n",
      "\n",
      "         via_tran  mot_viam  pais_prod  \n",
      "0           False     False      False  \n",
      "1           False     False      False  \n",
      "2           False     False      False  \n",
      "3           False     False      False  \n",
      "4           False     False      False  \n",
      "...           ...       ...        ...  \n",
      "5052628     False     False      False  \n",
      "5052629     False     False      False  \n",
      "5052630     False     False      False  \n",
      "5052631     False     False      False  \n",
      "5052632     False     False      False  \n",
      "\n",
      "[5052633 rows x 9 columns]\n"
     ]
    }
   ],
   "source": [
    "# Verificar la presencia de valores nulos en el DataFrame\n",
    "valores_nulos = data.isnull()\n",
    "\n",
    "# Mostrar el DataFrame de valores nulos\n",
    "print(valores_nulos)"
   ]
  },
  {
   "cell_type": "code",
   "execution_count": 18,
   "id": "9d666492-4d88-494a-aeae-bf5503671c33",
   "metadata": {
    "tags": [],
    "ExecuteTime": {
     "end_time": "2023-08-23T15:02:33.028478700Z",
     "start_time": "2023-08-23T15:02:32.731795200Z"
    }
   },
   "outputs": [
    {
     "name": "stdout",
     "output_type": "stream",
     "text": [
      "tip_movi     False\n",
      "tip_naci     False\n",
      "anio_movi    False\n",
      "mes_movi     False\n",
      "dia_movi     False\n",
      "cont_nac     False\n",
      "via_tran     False\n",
      "mot_viam     False\n",
      "pais_prod    False\n",
      "dtype: bool\n"
     ]
    }
   ],
   "source": [
    "# Verificar si hay al menos un valor nulo en cada columna\n",
    "valores_nulos_por_columna = valores_nulos.any()\n",
    "\n",
    "# Mostrar los resultados por columna\n",
    "print(valores_nulos_por_columna)"
   ]
  },
  {
   "cell_type": "code",
   "execution_count": 19,
   "id": "1889115e-436e-4677-8794-72399d4bc4a9",
   "metadata": {
    "tags": [],
    "ExecuteTime": {
     "end_time": "2023-08-23T15:02:33.376278Z",
     "start_time": "2023-08-23T15:02:32.786101400Z"
    }
   },
   "outputs": [
    {
     "name": "stdout",
     "output_type": "stream",
     "text": [
      "Total de valores nulos: 0\n"
     ]
    }
   ],
   "source": [
    "# Calcular la cantidad total de valores nulos en el DataFrame\n",
    "total_valores_nulos = valores_nulos.sum().sum()\n",
    "\n",
    "# Mostrar la cantidad total de valores nulos\n",
    "print(\"Total de valores nulos:\", total_valores_nulos)"
   ]
  },
  {
   "cell_type": "code",
   "execution_count": 20,
   "id": "23ce593d-ba7f-4189-a28c-c1de9f4af0fb",
   "metadata": {
    "tags": [],
    "ExecuteTime": {
     "end_time": "2023-08-23T15:02:34.974809700Z",
     "start_time": "2023-08-23T15:02:32.907552200Z"
    }
   },
   "outputs": [
    {
     "data": {
      "text/plain": "  tip_movi tip_naci anio_movi mes_movi dia_movi via_tran mot_viam pais_prod\n0        2        1      2022        4       20        1        5        32\n1        1        1      2022        5       26        1        5       756\n2        2        1      2022       12        8        2        5       170\n3        2        1      2022       10        3        1        1       840\n4        1        1      2022        2        1        1        5       724",
      "text/html": "<div>\n<style scoped>\n    .dataframe tbody tr th:only-of-type {\n        vertical-align: middle;\n    }\n\n    .dataframe tbody tr th {\n        vertical-align: top;\n    }\n\n    .dataframe thead th {\n        text-align: right;\n    }\n</style>\n<table border=\"1\" class=\"dataframe\">\n  <thead>\n    <tr style=\"text-align: right;\">\n      <th></th>\n      <th>tip_movi</th>\n      <th>tip_naci</th>\n      <th>anio_movi</th>\n      <th>mes_movi</th>\n      <th>dia_movi</th>\n      <th>via_tran</th>\n      <th>mot_viam</th>\n      <th>pais_prod</th>\n    </tr>\n  </thead>\n  <tbody>\n    <tr>\n      <th>0</th>\n      <td>2</td>\n      <td>1</td>\n      <td>2022</td>\n      <td>4</td>\n      <td>20</td>\n      <td>1</td>\n      <td>5</td>\n      <td>32</td>\n    </tr>\n    <tr>\n      <th>1</th>\n      <td>1</td>\n      <td>1</td>\n      <td>2022</td>\n      <td>5</td>\n      <td>26</td>\n      <td>1</td>\n      <td>5</td>\n      <td>756</td>\n    </tr>\n    <tr>\n      <th>2</th>\n      <td>2</td>\n      <td>1</td>\n      <td>2022</td>\n      <td>12</td>\n      <td>8</td>\n      <td>2</td>\n      <td>5</td>\n      <td>170</td>\n    </tr>\n    <tr>\n      <th>3</th>\n      <td>2</td>\n      <td>1</td>\n      <td>2022</td>\n      <td>10</td>\n      <td>3</td>\n      <td>1</td>\n      <td>1</td>\n      <td>840</td>\n    </tr>\n    <tr>\n      <th>4</th>\n      <td>1</td>\n      <td>1</td>\n      <td>2022</td>\n      <td>2</td>\n      <td>1</td>\n      <td>1</td>\n      <td>5</td>\n      <td>724</td>\n    </tr>\n  </tbody>\n</table>\n</div>"
     },
     "execution_count": 20,
     "metadata": {},
     "output_type": "execute_result"
    }
   ],
   "source": [
    "columnasEliminar = [\"cont_nac\"]\n",
    "data = data.drop(columns=columnasEliminar)\n",
    "data.head()"
   ]
  },
  {
   "cell_type": "code",
   "execution_count": 21,
   "id": "7abb98bf-5332-4d98-8fc2-6b2c819b0eaf",
   "metadata": {
    "tags": [],
    "ExecuteTime": {
     "end_time": "2023-08-23T15:02:34.980526200Z",
     "start_time": "2023-08-23T15:02:34.938215500Z"
    }
   },
   "outputs": [
    {
     "name": "stdout",
     "output_type": "stream",
     "text": [
      "(5052633, 8)\n",
      "tip_movi     object\n",
      "tip_naci     object\n",
      "anio_movi    object\n",
      "mes_movi     object\n",
      "dia_movi     object\n",
      "via_tran     object\n",
      "mot_viam     object\n",
      "pais_prod    object\n",
      "dtype: object\n"
     ]
    }
   ],
   "source": [
    "print(data.shape)\n",
    "print(data.dtypes)"
   ]
  },
  {
   "cell_type": "code",
   "execution_count": 22,
   "id": "6cbef474-aecb-40fd-9915-5c46344ae8f7",
   "metadata": {
    "tags": [],
    "ExecuteTime": {
     "end_time": "2023-08-23T15:02:36.014818200Z",
     "start_time": "2023-08-23T15:02:34.955286900Z"
    }
   },
   "outputs": [
    {
     "name": "stdout",
     "output_type": "stream",
     "text": [
      "Cantidad de valores de 'tip_movi' igual a 2: 2595089\n"
     ]
    }
   ],
   "source": [
    "# Contar cuántos valores de 'tip_movi' son iguales a 2\n",
    "contador = (data['tip_movi'] == '2').sum()\n",
    "\n",
    "# Mostrar el resultado\n",
    "print(\"Cantidad de valores de 'tip_movi' igual a 2:\", contador)"
   ]
  },
  {
   "cell_type": "code",
   "execution_count": 23,
   "id": "8eddabd3-8d39-4c13-9c3d-68ae250f3bdf",
   "metadata": {
    "ExecuteTime": {
     "end_time": "2023-08-23T15:02:42.384181400Z",
     "start_time": "2023-08-23T15:02:36.095194400Z"
    }
   },
   "outputs": [],
   "source": [
    "country_code = {\n",
    "    \"004\": \"AFGANISTAN\",\n",
    "    \"008\": \"ALBANIA\",\n",
    "    \"276\": \"GERMANY\",\n",
    "    \"020\": \"ANDORRA\",\n",
    "    \"024\": \"ANGOLA\",\n",
    "    \"660\": \"ANGUILLA\",\n",
    "    \"028\": \"ATIGUA_BARB\",\n",
    "    \"530\": \"NETH_ANTILES\",\n",
    "    \"682\": \"SAUDI_ARABIA\",\n",
    "    \"012\": \"ARGELIA\",\n",
    "    \"032\": \"ARGENTINA\",\n",
    "    \"051\": \"ARMENIA\",\n",
    "    \"533\": \"ARUBA\",\n",
    "    \"036\": \"AUSTRALIA\",\n",
    "    \"040\": \"AUSTRIA\",\n",
    "    \"031\": \"AZERBAIJAN\",\n",
    "    \"044\": \"BAHAMAS\",\n",
    "    \"048\": \"BAHRAIN\",\n",
    "    \"050\": \"BANGLADESH\",\n",
    "    \"052\": \"BARBADOS\",\n",
    "    \"112\": \"BELARUS\",\n",
    "    \"056\": \"BELGIUM\",\n",
    "    \"084\": \"BELIZE\",\n",
    "    \"204\": \"BENIN\",\n",
    "    \"060\": \"BERMUDA\",\n",
    "    \"064\": \"BHUTAN\",\n",
    "    \"068\": \"BOLIVIA\",\n",
    "    \"070\": \"BOSNIA_HERZEG\",\n",
    "    \"072\": \"BOTSWANA\",\n",
    "    \"076\": \"BRAZIL\",\n",
    "    \"096\": \"BRUNEI_DARSM\",\n",
    "    \"100\": \"BULGARIA\",\n",
    "    \"854\": \"BURKINA_FASO\",\n",
    "    \"108\": \"BURUNDI\",\n",
    "    \"132\": \"CAPE_VERDE\",\n",
    "    \"116\": \"CAMBODIA\",\n",
    "    \"120\": \"CAMEROON\",\n",
    "    \"124\": \"CANADA\",\n",
    "    \"148\": \"CHAD\",\n",
    "    \"152\": \"CHILE\",\n",
    "    \"156\": \"CHINA\",\n",
    "    \"344\": \"HONGKONG_SAR\",\n",
    "    \"196\": \"CYPRUS\",\n",
    "    \"170\": \"COLOMBIA\",\n",
    "    \"174\": \"COMOROS\",\n",
    "    \"178\": \"CONGO\",\n",
    "    \"188\": \"COSTA_RICA\",\n",
    "    \"384\": \"COTE_DIVOIRE\",\n",
    "    \"191\": \"CROATIA\",\n",
    "    \"192\": \"CUBA\",\n",
    "    \"208\": \"DENMARK\",\n",
    "    \"262\": \"DJIBOUTI\",\n",
    "    \"212\": \"DOMINICA\",\n",
    "    \"218\": \"ECUADOR\",\n",
    "    \"818\": \"EGYPT\",\n",
    "    \"222\": \"EL_SALVADOR\",\n",
    "    \"784\": \"UNTD_ARAB_EM\",\n",
    "    \"232\": \"ERITREA\",\n",
    "    \"703\": \"SLOVAKIA\",\n",
    "    \"705\": \"SLOVENIA\",\n",
    "    \"724\": \"SPAIN\",\n",
    "    \"840\": \"USA\",\n",
    "    \"233\": \"ESTONIA\",\n",
    "    \"231\": \"ETHIOPIA\",\n",
    "    \"807\": \"TFYROM\",\n",
    "    \"274\": \"FRANJA_GAZA\",\n",
    "    \"643\": \"RUSSIAN_FED\",\n",
    "    \"242\": \"FIJI\",\n",
    "    \"608\": \"PHILIPPINES\",\n",
    "    \"246\": \"FINLAND\",\n",
    "    \"250\": \"FRANCE\",\n",
    "    \"266\": \"GABON\",\n",
    "    \"270\": \"GAMBIA\",\n",
    "    \"268\": \"GEORGIA\",\n",
    "    \"288\": \"GHANA\",\n",
    "    \"292\": \"GIBRALTAR\",\n",
    "    \"308\": \"GRENADA\",\n",
    "    \"300\": \"GREECE\",\n",
    "    \"304\": \"GREENLAND\",\n",
    "    \"312\": \"GUADELOUPE\",\n",
    "    \"316\": \"GUAM\",\n",
    "    \"320\": \"GUATEMALA\",\n",
    "    \"324\": \"GUINEA\",\n",
    "    \"624\": \"GUINEABISSAU\",\n",
    "    \"226\": \"EQ_GUINEA\",\n",
    "    \"328\": \"GUYANA\",\n",
    "    \"254\": \"FR_GUIANA\",\n",
    "    \"332\": \"HAITI\",\n",
    "    \"340\": \"HONDURAS\",\n",
    "    \"348\": \"HUNGARY\",\n",
    "    \"356\": \"INDIA\",\n",
    "    \"360\": \"INDONESIA\",\n",
    "    \"364\": \"IRAN\",\n",
    "    \"368\": \"IRAQ\",\n",
    "    \"372\": \"IRELAND\",\n",
    "    \"352\": \"ICELAND\",\n",
    "    \"833\": \"ISLE_MAN\",\n",
    "    \"830\": \"CHANNEL_IS\",\n",
    "    \"136\": \"CAYMAN_IS\",\n",
    "    \"184\": \"COOK_IS\",\n",
    "    \"234\": \"FAEROE_IS\",\n",
    "    \"238\": \"FALKLAND_IS\",\n",
    "    \"580\": \"NMARIANA_IS\",\n",
    "    \"584\": \"MARSHALL_IS\",\n",
    "    \"574\": \"NORFOLK_IS\",\n",
    "    \"090\": \"SOLOMON_IS\",\n",
    "    \"744\": \"SVALBARD_IS\",\n",
    "    \"796\": \"TURKS_CAICOS\",\n",
    "    \"092\": \"BRVIRGIN_IS\",\n",
    "    \"850\": \"USVIRGIN_IS\",\n",
    "    \"876\": \"WALLIS_FUT\",\n",
    "    \"376\": \"ISRAEL\",\n",
    "    \"380\": \"ITALY\",\n",
    "    \"434\": \"LIBYA\",\n",
    "    \"388\": \"JAMAICA\",\n",
    "    \"392\": \"JAPAN\",\n",
    "    \"400\": \"JORDAN\",\n",
    "    \"398\": \"KAZAKHSTAN\",\n",
    "    \"404\": \"KENYA\",\n",
    "    \"296\": \"KIRIBATI\",\n",
    "    \"414\": \"KUWAIT\",\n",
    "    \"417\": \"KYRGYZTAN\",\n",
    "    \"426\": \"LESOTHO\",\n",
    "    \"428\": \"LATVIA\",\n",
    "    \"422\": \"LEBANON\",\n",
    "    \"430\": \"LIBERIA\",\n",
    "    \"438\": \"LIECHTENSTEN\",\n",
    "    \"440\": \"LITHUANIA\",\n",
    "    \"442\": \"LUXEMBOURG\",\n",
    "    \"446\": \"MACAO\",\n",
    "    \"450\": \"MADAGASCAR\",\n",
    "    \"458\": \"MALASIA\",\n",
    "    \"454\": \"MALAWI\",\n",
    "    \"462\": \"MALDIVES\",\n",
    "    \"466\": \"MALI\",\n",
    "    \"470\": \"MALTA\",\n",
    "    \"504\": \"MOROCCO\",\n",
    "    \"474\": \"MARTINIQUE\",\n",
    "    \"480\": \"MAURITIUS\",\n",
    "    \"478\": \"MAURITANIA\",\n",
    "    \"484\": \"MEXICO\",\n",
    "    \"583\": \"MICRONESIA\",\n",
    "    \"492\": \"MONACO\",\n",
    "    \"496\": \"MONGOLIA\",\n",
    "    \"500\": \"MONTSERRAT\",\n",
    "    \"508\": \"MOZAMBIQUE\",\n",
    "    \"104\": \"MYANMAR\",\n",
    "    \"516\": \"NAMIBIA\",\n",
    "    \"520\": \"NAURU\",\n",
    "    \"524\": \"NEPAL\",\n",
    "    \"558\": \"NICARAGUA\",\n",
    "    \"562\": \"NIGER\",\n",
    "    \"566\": \"NIGERIA\",\n",
    "    \"570\": \"NIUE\",\n",
    "    \"578\": \"NORWAY\",\n",
    "    \"540\": \"NEW_CALEDNIA\",\n",
    "    \"554\": \"NEW_ZEALAND\",\n",
    "    \"512\": \"OMAN\",\n",
    "    \"528\": \"NETHERLANDS\",\n",
    "    \"586\": \"PAKISTAN\",\n",
    "    \"585\": \"PALAU\",\n",
    "    \"591\": \"PANAMA\",\n",
    "    \"598\": \"PAPUA_NGUIN\",\n",
    "    \"600\": \"PARAGUAY\",\n",
    "    \"604\": \"PERU\",\n",
    "    \"612\": \"PITCAIRN\",\n",
    "    \"258\": \"FR_POLYNESIA\",\n",
    "    \"616\": \"POLAND\",\n",
    "    \"620\": \"PORTUGAL\",\n",
    "    \"158\": \"TAIWAN\",\n",
    "    \"630\": \"PUERTO_RICO\",\n",
    "    \"634\": \"QATAR\",\n",
    "    \"826\": \"UK\",\n",
    "    \"760\": \"SYRIA\",\n",
    "    \"140\": \"CENT_AFR_REP\",\n",
    "    \"203\": \"CZECH_REP\",\n",
    "    \"410\": \"KOREA_SUR\",\n",
    "    \"498\": \"REP_MOLDOVA\",\n",
    "    \"180\": \"D_RP_CONGO\",\n",
    "    \"418\": \"LAO_P_DEM_R\",\n",
    "    \"214\": \"DOMINICAN_RP\",\n",
    "    \"408\": \"KOREA_NORTE\",\n",
    "    \"834\": \"TANZANIA\",\n",
    "    \"638\": \"REUNION\",\n",
    "    \"642\": \"ROMANIA\",\n",
    "    \"646\": \"RWANDA\",\n",
    "    \"732\": \"WESTN_SAHARA\",\n",
    "    \"659\": \"ST_KITTS_NEV\",\n",
    "    \"666\": \"ST_PIERRE_MQ\",\n",
    "    \"16\": \"AMER_SAMOA\",\n",
    "    \"882\": \"SAMOA\",\n",
    "    \"674\": \"SAN_MARINO\",\n",
    "    \"670\": \"ST_VINCENT_G\",\n",
    "    \"654\": \"ST_HELENA\",\n",
    "    \"622\": \"ST_LUCIA\",\n",
    "    \"336\": \"HOLY_SEE\",\n",
    "    \"678\": \"SAO_TOME_PRN\",\n",
    "    \"686\": \"SENEGAL\",\n",
    "    \"690\": \"SEYCHELLES\",\n",
    "    \"694\": \"SIERRA_LEONA\",\n",
    "    \"702\": \"SINGAPORE\",\n",
    "    \"706\": \"SOMALIA\",\n",
    "    \"144\": \"SRI_LANKA\",\n",
    "    \"710\": \"SOUTH_AFRICA\",\n",
    "    \"736\": \"SUDAN\",\n",
    "    \"752\": \"SWEDEN\",\n",
    "    \"756\": \"SWITZERLAND\",\n",
    "    \"740\": \"SURINAME\",\n",
    "    \"748\": \"SWAZILAND\",\n",
    "    \"764\": \"THAILAND\",\n",
    "    \"762\": \"TAJIKISTAN\",\n",
    "    \"626\": \"EAST_TIMOR\",\n",
    "    \"768\": \"TOGO\",\n",
    "    \"772\": \"TOKELAU\",\n",
    "    \"776\": \"TONGA\",\n",
    "    \"780\": \"TRINIDAD_TBG\",\n",
    "    \"788\": \"TUNISIA\",\n",
    "    \"795\": \"TURKMENISTAN\",\n",
    "    \"792\": \"TURKEY\",\n",
    "    \"798\": \"TUVALU\",\n",
    "    \"804\": \"UKRAINE\",\n",
    "    \"800\": \"UGANDA\",\n",
    "    \"858\": \"URUGUAY\",\n",
    "    \"860\": \"UZBEKISTAN\",\n",
    "    \"548\": \"VANUATU\",\n",
    "    \"862\": \"VENEZUELA\",\n",
    "    \"704\": \"VIET_NAM\",\n",
    "    \"887\": \"YEMEN\",\n",
    "    \"891\": \"YUGOSLAVIA\",\n",
    "    \"894\": \"ZAMBIA\",\n",
    "    \"716\": \"ZIMBABWE\",\n",
    "    \"898\": \"ZONA_NO_ESPECIFICADA\",\n",
    "    \"901\": \"OTRAS_NACIONES_AMERICANAS\",\n",
    "    \"902\": \"OTRAS_NACIONES_EUROPA\",\n",
    "    \"903\": \"OTRAS_NACIONES_ASIA\",\n",
    "    \"904\": \"OTRAS_NACIONES_AFRICA\",\n",
    "    \"905\": \"OTRAS_NACIONES_OCEANIA\"\n",
    "}\n",
    "\n",
    "data['pais_prod'] = data['pais_prod'].map(country_code)"
   ]
  },
  {
   "cell_type": "code",
   "execution_count": 24,
   "outputs": [
    {
     "data": {
      "text/plain": "  tip_movi tip_naci anio_movi mes_movi dia_movi via_tran mot_viam    pais_prod\n0        2        1      2022        4       20        1        5          NaN\n1        1        1      2022        5       26        1        5  SWITZERLAND\n2        2        1      2022       12        8        2        5     COLOMBIA\n3        2        1      2022       10        3        1        1          USA\n4        1        1      2022        2        1        1        5        SPAIN",
      "text/html": "<div>\n<style scoped>\n    .dataframe tbody tr th:only-of-type {\n        vertical-align: middle;\n    }\n\n    .dataframe tbody tr th {\n        vertical-align: top;\n    }\n\n    .dataframe thead th {\n        text-align: right;\n    }\n</style>\n<table border=\"1\" class=\"dataframe\">\n  <thead>\n    <tr style=\"text-align: right;\">\n      <th></th>\n      <th>tip_movi</th>\n      <th>tip_naci</th>\n      <th>anio_movi</th>\n      <th>mes_movi</th>\n      <th>dia_movi</th>\n      <th>via_tran</th>\n      <th>mot_viam</th>\n      <th>pais_prod</th>\n    </tr>\n  </thead>\n  <tbody>\n    <tr>\n      <th>0</th>\n      <td>2</td>\n      <td>1</td>\n      <td>2022</td>\n      <td>4</td>\n      <td>20</td>\n      <td>1</td>\n      <td>5</td>\n      <td>NaN</td>\n    </tr>\n    <tr>\n      <th>1</th>\n      <td>1</td>\n      <td>1</td>\n      <td>2022</td>\n      <td>5</td>\n      <td>26</td>\n      <td>1</td>\n      <td>5</td>\n      <td>SWITZERLAND</td>\n    </tr>\n    <tr>\n      <th>2</th>\n      <td>2</td>\n      <td>1</td>\n      <td>2022</td>\n      <td>12</td>\n      <td>8</td>\n      <td>2</td>\n      <td>5</td>\n      <td>COLOMBIA</td>\n    </tr>\n    <tr>\n      <th>3</th>\n      <td>2</td>\n      <td>1</td>\n      <td>2022</td>\n      <td>10</td>\n      <td>3</td>\n      <td>1</td>\n      <td>1</td>\n      <td>USA</td>\n    </tr>\n    <tr>\n      <th>4</th>\n      <td>1</td>\n      <td>1</td>\n      <td>2022</td>\n      <td>2</td>\n      <td>1</td>\n      <td>1</td>\n      <td>5</td>\n      <td>SPAIN</td>\n    </tr>\n  </tbody>\n</table>\n</div>"
     },
     "execution_count": 24,
     "metadata": {},
     "output_type": "execute_result"
    }
   ],
   "source": [
    "data.head(5)"
   ],
   "metadata": {
    "collapsed": false,
    "ExecuteTime": {
     "end_time": "2023-08-23T15:02:42.388606200Z",
     "start_time": "2023-08-23T15:02:42.338947Z"
    }
   },
   "id": "89424f14a6a47e43"
  },
  {
   "cell_type": "code",
   "execution_count": 25,
   "outputs": [],
   "source": [
    "data = pd.DataFrame(data)"
   ],
   "metadata": {
    "collapsed": false,
    "ExecuteTime": {
     "end_time": "2023-08-23T15:05:14.227813200Z",
     "start_time": "2023-08-23T15:05:14.164339400Z"
    }
   },
   "id": "6ce6ba005c649996"
  },
  {
   "cell_type": "code",
   "execution_count": 26,
   "outputs": [],
   "source": [
    "data.to_csv('salidas2022.csv', index=False)"
   ],
   "metadata": {
    "collapsed": false,
    "ExecuteTime": {
     "end_time": "2023-08-23T15:06:12.666900300Z",
     "start_time": "2023-08-23T15:05:45.990094100Z"
    }
   },
   "id": "347086eaf87d820c"
  },
  {
   "cell_type": "code",
   "execution_count": 27,
   "outputs": [
    {
     "name": "stdout",
     "output_type": "stream",
     "text": [
      "         tip_movi  tip_naci  anio_movi  mes_movi  dia_movi  via_tran  \\\n",
      "0           False     False      False     False     False     False   \n",
      "1           False     False      False     False     False     False   \n",
      "2           False     False      False     False     False     False   \n",
      "3           False     False      False     False     False     False   \n",
      "4           False     False      False     False     False     False   \n",
      "...           ...       ...        ...       ...       ...       ...   \n",
      "5052628     False     False      False     False     False     False   \n",
      "5052629     False     False      False     False     False     False   \n",
      "5052630     False     False      False     False     False     False   \n",
      "5052631     False     False      False     False     False     False   \n",
      "5052632     False     False      False     False     False     False   \n",
      "\n",
      "         mot_viam  pais_prod  \n",
      "0           False       True  \n",
      "1           False      False  \n",
      "2           False      False  \n",
      "3           False      False  \n",
      "4           False      False  \n",
      "...           ...        ...  \n",
      "5052628     False      False  \n",
      "5052629     False      False  \n",
      "5052630     False      False  \n",
      "5052631     False      False  \n",
      "5052632     False      False  \n",
      "\n",
      "[5052633 rows x 8 columns]\n"
     ]
    }
   ],
   "source": [
    "# Verificar la presencia de valores nulos en el DataFrame\n",
    "valores_nulos = data.isnull()\n",
    "\n",
    "# Mostrar el DataFrame de valores nulos\n",
    "print(valores_nulos)"
   ],
   "metadata": {
    "collapsed": false,
    "ExecuteTime": {
     "end_time": "2023-08-23T15:09:14.151919300Z",
     "start_time": "2023-08-23T15:09:05.256277700Z"
    }
   },
   "id": "eb88190cbb8074e2"
  },
  {
   "cell_type": "code",
   "execution_count": 28,
   "outputs": [
    {
     "name": "stdout",
     "output_type": "stream",
     "text": [
      "Total de valores nulos: 206220\n"
     ]
    }
   ],
   "source": [
    "# Calcular la cantidad total de valores nulos en el DataFrame\n",
    "total_valores_nulos = valores_nulos.sum().sum()\n",
    "\n",
    "# Mostrar la cantidad total de valores nulos\n",
    "print(\"Total de valores nulos:\", total_valores_nulos)"
   ],
   "metadata": {
    "collapsed": false,
    "ExecuteTime": {
     "end_time": "2023-08-23T15:09:22.746381200Z",
     "start_time": "2023-08-23T15:09:22.658990100Z"
    }
   },
   "id": "f38b8241c844e415"
  },
  {
   "cell_type": "code",
   "execution_count": 29,
   "outputs": [
    {
     "data": {
      "text/plain": "  tip_movi tip_naci anio_movi mes_movi dia_movi via_tran mot_viam    pais_prod\n1        1        1      2022        5       26        1        5  SWITZERLAND\n2        2        1      2022       12        8        2        5     COLOMBIA\n3        2        1      2022       10        3        1        1          USA\n4        1        1      2022        2        1        1        5        SPAIN\n5        1        1      2022        5        8        1        5     COLOMBIA",
      "text/html": "<div>\n<style scoped>\n    .dataframe tbody tr th:only-of-type {\n        vertical-align: middle;\n    }\n\n    .dataframe tbody tr th {\n        vertical-align: top;\n    }\n\n    .dataframe thead th {\n        text-align: right;\n    }\n</style>\n<table border=\"1\" class=\"dataframe\">\n  <thead>\n    <tr style=\"text-align: right;\">\n      <th></th>\n      <th>tip_movi</th>\n      <th>tip_naci</th>\n      <th>anio_movi</th>\n      <th>mes_movi</th>\n      <th>dia_movi</th>\n      <th>via_tran</th>\n      <th>mot_viam</th>\n      <th>pais_prod</th>\n    </tr>\n  </thead>\n  <tbody>\n    <tr>\n      <th>1</th>\n      <td>1</td>\n      <td>1</td>\n      <td>2022</td>\n      <td>5</td>\n      <td>26</td>\n      <td>1</td>\n      <td>5</td>\n      <td>SWITZERLAND</td>\n    </tr>\n    <tr>\n      <th>2</th>\n      <td>2</td>\n      <td>1</td>\n      <td>2022</td>\n      <td>12</td>\n      <td>8</td>\n      <td>2</td>\n      <td>5</td>\n      <td>COLOMBIA</td>\n    </tr>\n    <tr>\n      <th>3</th>\n      <td>2</td>\n      <td>1</td>\n      <td>2022</td>\n      <td>10</td>\n      <td>3</td>\n      <td>1</td>\n      <td>1</td>\n      <td>USA</td>\n    </tr>\n    <tr>\n      <th>4</th>\n      <td>1</td>\n      <td>1</td>\n      <td>2022</td>\n      <td>2</td>\n      <td>1</td>\n      <td>1</td>\n      <td>5</td>\n      <td>SPAIN</td>\n    </tr>\n    <tr>\n      <th>5</th>\n      <td>1</td>\n      <td>1</td>\n      <td>2022</td>\n      <td>5</td>\n      <td>8</td>\n      <td>1</td>\n      <td>5</td>\n      <td>COLOMBIA</td>\n    </tr>\n  </tbody>\n</table>\n</div>"
     },
     "execution_count": 29,
     "metadata": {},
     "output_type": "execute_result"
    }
   ],
   "source": [
    "data = data.dropna()\n",
    "data.head()"
   ],
   "metadata": {
    "collapsed": false,
    "ExecuteTime": {
     "end_time": "2023-08-23T15:10:26.309847900Z",
     "start_time": "2023-08-23T15:10:21.566865300Z"
    }
   },
   "id": "a8be5396c8dfcaf0"
  },
  {
   "cell_type": "code",
   "execution_count": 30,
   "outputs": [
    {
     "data": {
      "text/plain": "(4846413, 8)"
     },
     "execution_count": 30,
     "metadata": {},
     "output_type": "execute_result"
    }
   ],
   "source": [
    "data.shape"
   ],
   "metadata": {
    "collapsed": false,
    "ExecuteTime": {
     "end_time": "2023-08-23T15:10:35.112562900Z",
     "start_time": "2023-08-23T15:10:34.996322100Z"
    }
   },
   "id": "d837e1ee51c6ff36"
  },
  {
   "cell_type": "code",
   "execution_count": 31,
   "outputs": [],
   "source": [
    "data.to_csv('salidas2022.csv', index=False)"
   ],
   "metadata": {
    "collapsed": false,
    "ExecuteTime": {
     "end_time": "2023-08-23T15:11:11.411680Z",
     "start_time": "2023-08-23T15:10:54.988179700Z"
    }
   },
   "id": "829a63731367be3f"
  },
  {
   "cell_type": "code",
   "execution_count": null,
   "outputs": [],
   "source": [
    "df_data = pd.read_csv('salidas2022.csv')"
   ],
   "metadata": {
    "collapsed": false
   },
   "id": "4ba808a9b5cedad7"
  },
  {
   "cell_type": "code",
   "execution_count": null,
   "outputs": [],
   "source": [
    "df_data = df_data[df_data['tip_movi'] != 1]\n",
    "df_data.head()"
   ],
   "metadata": {
    "collapsed": false
   },
   "id": "be22028ff513203c"
  },
  {
   "cell_type": "code",
   "execution_count": null,
   "outputs": [],
   "source": [
    "df_data = df_data.drop(['tip_movi', 'anio_movi'], axis=1)\n",
    "df_data.head(3)"
   ],
   "metadata": {
    "collapsed": false
   },
   "id": "a9f8ea3176a96a7c"
  },
  {
   "cell_type": "code",
   "execution_count": null,
   "outputs": [],
   "source": [
    "df_data.pais_prod = df_data.pais_prod.astype('category')\n",
    "print(df_data.pais_prod.cat.categories)\n",
    "print(df_data.pais_prod.dtype)"
   ],
   "metadata": {
    "collapsed": false
   },
   "id": "2e1569ea2c1f59e4"
  },
  {
   "cell_type": "code",
   "execution_count": null,
   "outputs": [],
   "source": [
    "# Transforma la variable pais_prod en variables dummies\n",
    "data_df = pd.get_dummies(df_data, prefix_sep='', columns=['pais_prod'], prefix='')\n",
    "data_df.columns"
   ],
   "metadata": {
    "collapsed": false
   },
   "id": "24cb53e2a092af21"
  },
  {
   "cell_type": "code",
   "execution_count": null,
   "outputs": [],
   "source": [
    "data_df.to_csv('salidas.csv', index=False)"
   ],
   "metadata": {
    "collapsed": false
   },
   "id": "f0bf65a8f91c5330"
  }
 ],
 "metadata": {
  "kernelspec": {
   "display_name": "Python 3 (ipykernel)",
   "language": "python",
   "name": "python3"
  },
  "language_info": {
   "codemirror_mode": {
    "name": "ipython",
    "version": 3
   },
   "file_extension": ".py",
   "mimetype": "text/x-python",
   "name": "python",
   "nbconvert_exporter": "python",
   "pygments_lexer": "ipython3",
   "version": "3.11.3"
  }
 },
 "nbformat": 4,
 "nbformat_minor": 5
}

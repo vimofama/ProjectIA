{
 "cells": [
  {
   "cell_type": "code",
   "execution_count": 1,
   "id": "initial_id",
   "metadata": {
    "collapsed": true,
    "ExecuteTime": {
     "end_time": "2023-08-30T14:05:30.937177600Z",
     "start_time": "2023-08-30T14:05:28.813894100Z"
    }
   },
   "outputs": [],
   "source": [
    "import pandas as pd\n",
    "from sklearn.naive_bayes import MultinomialNB"
   ]
  },
  {
   "cell_type": "code",
   "execution_count": 2,
   "outputs": [
    {
     "data": {
      "text/plain": "   tip_naci  mes_movi  dia_movi  via_tran  mot_viam  AMER_SAMOA  ANGUILLA  \\\n0         1        12         8         2         5           0         0   \n1         1        10         3         1         1           0         0   \n2         1        10        24         2         1           0         0   \n3         1         9        22         1         1           0         0   \n4         1         4         8         1         1           0         0   \n\n   ARUBA  BELARUS  BENIN  ...  URUGUAY  USA  USVIRGIN_IS  UZBEKISTAN  VANUATU  \\\n0      0        0      0  ...        0    0            0           0        0   \n1      0        0      0  ...        0    1            0           0        0   \n2      0        0      0  ...        0    0            0           0        0   \n3      0        0      0  ...        0    0            0           0        0   \n4      0        0      0  ...        0    1            0           0        0   \n\n   VENEZUELA  VIET_NAM  YEMEN  ZAMBIA  ZIMBABWE  \n0          0         0      0       0         0  \n1          0         0      0       0         0  \n2          0         0      0       0         0  \n3          0         0      0       0         0  \n4          0         0      0       0         0  \n\n[5 rows x 174 columns]",
      "text/html": "<div>\n<style scoped>\n    .dataframe tbody tr th:only-of-type {\n        vertical-align: middle;\n    }\n\n    .dataframe tbody tr th {\n        vertical-align: top;\n    }\n\n    .dataframe thead th {\n        text-align: right;\n    }\n</style>\n<table border=\"1\" class=\"dataframe\">\n  <thead>\n    <tr style=\"text-align: right;\">\n      <th></th>\n      <th>tip_naci</th>\n      <th>mes_movi</th>\n      <th>dia_movi</th>\n      <th>via_tran</th>\n      <th>mot_viam</th>\n      <th>AMER_SAMOA</th>\n      <th>ANGUILLA</th>\n      <th>ARUBA</th>\n      <th>BELARUS</th>\n      <th>BENIN</th>\n      <th>...</th>\n      <th>URUGUAY</th>\n      <th>USA</th>\n      <th>USVIRGIN_IS</th>\n      <th>UZBEKISTAN</th>\n      <th>VANUATU</th>\n      <th>VENEZUELA</th>\n      <th>VIET_NAM</th>\n      <th>YEMEN</th>\n      <th>ZAMBIA</th>\n      <th>ZIMBABWE</th>\n    </tr>\n  </thead>\n  <tbody>\n    <tr>\n      <th>0</th>\n      <td>1</td>\n      <td>12</td>\n      <td>8</td>\n      <td>2</td>\n      <td>5</td>\n      <td>0</td>\n      <td>0</td>\n      <td>0</td>\n      <td>0</td>\n      <td>0</td>\n      <td>...</td>\n      <td>0</td>\n      <td>0</td>\n      <td>0</td>\n      <td>0</td>\n      <td>0</td>\n      <td>0</td>\n      <td>0</td>\n      <td>0</td>\n      <td>0</td>\n      <td>0</td>\n    </tr>\n    <tr>\n      <th>1</th>\n      <td>1</td>\n      <td>10</td>\n      <td>3</td>\n      <td>1</td>\n      <td>1</td>\n      <td>0</td>\n      <td>0</td>\n      <td>0</td>\n      <td>0</td>\n      <td>0</td>\n      <td>...</td>\n      <td>0</td>\n      <td>1</td>\n      <td>0</td>\n      <td>0</td>\n      <td>0</td>\n      <td>0</td>\n      <td>0</td>\n      <td>0</td>\n      <td>0</td>\n      <td>0</td>\n    </tr>\n    <tr>\n      <th>2</th>\n      <td>1</td>\n      <td>10</td>\n      <td>24</td>\n      <td>2</td>\n      <td>1</td>\n      <td>0</td>\n      <td>0</td>\n      <td>0</td>\n      <td>0</td>\n      <td>0</td>\n      <td>...</td>\n      <td>0</td>\n      <td>0</td>\n      <td>0</td>\n      <td>0</td>\n      <td>0</td>\n      <td>0</td>\n      <td>0</td>\n      <td>0</td>\n      <td>0</td>\n      <td>0</td>\n    </tr>\n    <tr>\n      <th>3</th>\n      <td>1</td>\n      <td>9</td>\n      <td>22</td>\n      <td>1</td>\n      <td>1</td>\n      <td>0</td>\n      <td>0</td>\n      <td>0</td>\n      <td>0</td>\n      <td>0</td>\n      <td>...</td>\n      <td>0</td>\n      <td>0</td>\n      <td>0</td>\n      <td>0</td>\n      <td>0</td>\n      <td>0</td>\n      <td>0</td>\n      <td>0</td>\n      <td>0</td>\n      <td>0</td>\n    </tr>\n    <tr>\n      <th>4</th>\n      <td>1</td>\n      <td>4</td>\n      <td>8</td>\n      <td>1</td>\n      <td>1</td>\n      <td>0</td>\n      <td>0</td>\n      <td>0</td>\n      <td>0</td>\n      <td>0</td>\n      <td>...</td>\n      <td>0</td>\n      <td>1</td>\n      <td>0</td>\n      <td>0</td>\n      <td>0</td>\n      <td>0</td>\n      <td>0</td>\n      <td>0</td>\n      <td>0</td>\n      <td>0</td>\n    </tr>\n  </tbody>\n</table>\n<p>5 rows × 174 columns</p>\n</div>"
     },
     "execution_count": 2,
     "metadata": {},
     "output_type": "execute_result"
    }
   ],
   "source": [
    "new_data = pd.read_csv('salidas.csv')\n",
    "new_data.head()"
   ],
   "metadata": {
    "collapsed": false,
    "ExecuteTime": {
     "end_time": "2023-08-30T14:05:47.968471300Z",
     "start_time": "2023-08-30T14:05:30.939188200Z"
    }
   },
   "id": "955ca28eabab0897"
  },
  {
   "cell_type": "code",
   "execution_count": 3,
   "outputs": [
    {
     "name": "stdout",
     "output_type": "stream",
     "text": [
      "<class 'pandas.core.frame.DataFrame'>\n",
      "RangeIndex: 2488532 entries, 0 to 2488531\n",
      "Columns: 174 entries, tip_naci to ZIMBABWE\n",
      "dtypes: int64(174)\n",
      "memory usage: 3.2 GB\n"
     ]
    }
   ],
   "source": [
    "new_data.info()"
   ],
   "metadata": {
    "collapsed": false,
    "ExecuteTime": {
     "end_time": "2023-08-30T14:05:47.992633700Z",
     "start_time": "2023-08-30T14:05:47.965980500Z"
    }
   },
   "id": "fa9eb42433e971aa"
  },
  {
   "cell_type": "code",
   "execution_count": 4,
   "outputs": [],
   "source": [
    "# convert to categorical\n",
    "new_data['mot_viam'] = new_data['mot_viam'].astype('category')"
   ],
   "metadata": {
    "collapsed": false,
    "ExecuteTime": {
     "end_time": "2023-08-30T14:05:49.512176100Z",
     "start_time": "2023-08-30T14:05:47.996827600Z"
    }
   },
   "id": "14735b1a70d42069"
  },
  {
   "cell_type": "code",
   "execution_count": 5,
   "outputs": [
    {
     "name": "stdout",
     "output_type": "stream",
     "text": [
      "<class 'pandas.core.frame.DataFrame'>\n",
      "RangeIndex: 2488532 entries, 0 to 2488531\n",
      "Columns: 174 entries, tip_naci to ZIMBABWE\n",
      "dtypes: category(1), int64(173)\n",
      "memory usage: 3.2 GB\n"
     ]
    }
   ],
   "source": [
    "new_data.info()"
   ],
   "metadata": {
    "collapsed": false,
    "ExecuteTime": {
     "end_time": "2023-08-30T14:05:49.561759900Z",
     "start_time": "2023-08-30T14:05:49.517371Z"
    }
   },
   "id": "22ae7b63797c6642"
  },
  {
   "cell_type": "code",
   "execution_count": 6,
   "outputs": [
    {
     "data": {
      "text/plain": "   tip_naci  mes_movi  dia_movi  via_tran mot_viam  AMER_SAMOA  ANGUILLA  \\\n0         1        12         8         2        5           0         0   \n1         1        10         3         1        1           0         0   \n2         1        10        24         2        1           0         0   \n3         1         9        22         1        1           0         0   \n4         1         4         8         1        1           0         0   \n\n   ARUBA  BELARUS  BENIN  ...  URUGUAY  USA  USVIRGIN_IS  UZBEKISTAN  VANUATU  \\\n0      0        0      0  ...        0    0            0           0        0   \n1      0        0      0  ...        0    1            0           0        0   \n2      0        0      0  ...        0    0            0           0        0   \n3      0        0      0  ...        0    0            0           0        0   \n4      0        0      0  ...        0    1            0           0        0   \n\n   VENEZUELA  VIET_NAM  YEMEN  ZAMBIA  ZIMBABWE  \n0          0         0      0       0         0  \n1          0         0      0       0         0  \n2          0         0      0       0         0  \n3          0         0      0       0         0  \n4          0         0      0       0         0  \n\n[5 rows x 174 columns]",
      "text/html": "<div>\n<style scoped>\n    .dataframe tbody tr th:only-of-type {\n        vertical-align: middle;\n    }\n\n    .dataframe tbody tr th {\n        vertical-align: top;\n    }\n\n    .dataframe thead th {\n        text-align: right;\n    }\n</style>\n<table border=\"1\" class=\"dataframe\">\n  <thead>\n    <tr style=\"text-align: right;\">\n      <th></th>\n      <th>tip_naci</th>\n      <th>mes_movi</th>\n      <th>dia_movi</th>\n      <th>via_tran</th>\n      <th>mot_viam</th>\n      <th>AMER_SAMOA</th>\n      <th>ANGUILLA</th>\n      <th>ARUBA</th>\n      <th>BELARUS</th>\n      <th>BENIN</th>\n      <th>...</th>\n      <th>URUGUAY</th>\n      <th>USA</th>\n      <th>USVIRGIN_IS</th>\n      <th>UZBEKISTAN</th>\n      <th>VANUATU</th>\n      <th>VENEZUELA</th>\n      <th>VIET_NAM</th>\n      <th>YEMEN</th>\n      <th>ZAMBIA</th>\n      <th>ZIMBABWE</th>\n    </tr>\n  </thead>\n  <tbody>\n    <tr>\n      <th>0</th>\n      <td>1</td>\n      <td>12</td>\n      <td>8</td>\n      <td>2</td>\n      <td>5</td>\n      <td>0</td>\n      <td>0</td>\n      <td>0</td>\n      <td>0</td>\n      <td>0</td>\n      <td>...</td>\n      <td>0</td>\n      <td>0</td>\n      <td>0</td>\n      <td>0</td>\n      <td>0</td>\n      <td>0</td>\n      <td>0</td>\n      <td>0</td>\n      <td>0</td>\n      <td>0</td>\n    </tr>\n    <tr>\n      <th>1</th>\n      <td>1</td>\n      <td>10</td>\n      <td>3</td>\n      <td>1</td>\n      <td>1</td>\n      <td>0</td>\n      <td>0</td>\n      <td>0</td>\n      <td>0</td>\n      <td>0</td>\n      <td>...</td>\n      <td>0</td>\n      <td>1</td>\n      <td>0</td>\n      <td>0</td>\n      <td>0</td>\n      <td>0</td>\n      <td>0</td>\n      <td>0</td>\n      <td>0</td>\n      <td>0</td>\n    </tr>\n    <tr>\n      <th>2</th>\n      <td>1</td>\n      <td>10</td>\n      <td>24</td>\n      <td>2</td>\n      <td>1</td>\n      <td>0</td>\n      <td>0</td>\n      <td>0</td>\n      <td>0</td>\n      <td>0</td>\n      <td>...</td>\n      <td>0</td>\n      <td>0</td>\n      <td>0</td>\n      <td>0</td>\n      <td>0</td>\n      <td>0</td>\n      <td>0</td>\n      <td>0</td>\n      <td>0</td>\n      <td>0</td>\n    </tr>\n    <tr>\n      <th>3</th>\n      <td>1</td>\n      <td>9</td>\n      <td>22</td>\n      <td>1</td>\n      <td>1</td>\n      <td>0</td>\n      <td>0</td>\n      <td>0</td>\n      <td>0</td>\n      <td>0</td>\n      <td>...</td>\n      <td>0</td>\n      <td>0</td>\n      <td>0</td>\n      <td>0</td>\n      <td>0</td>\n      <td>0</td>\n      <td>0</td>\n      <td>0</td>\n      <td>0</td>\n      <td>0</td>\n    </tr>\n    <tr>\n      <th>4</th>\n      <td>1</td>\n      <td>4</td>\n      <td>8</td>\n      <td>1</td>\n      <td>1</td>\n      <td>0</td>\n      <td>0</td>\n      <td>0</td>\n      <td>0</td>\n      <td>0</td>\n      <td>...</td>\n      <td>0</td>\n      <td>1</td>\n      <td>0</td>\n      <td>0</td>\n      <td>0</td>\n      <td>0</td>\n      <td>0</td>\n      <td>0</td>\n      <td>0</td>\n      <td>0</td>\n    </tr>\n  </tbody>\n</table>\n<p>5 rows × 174 columns</p>\n</div>"
     },
     "execution_count": 6,
     "metadata": {},
     "output_type": "execute_result"
    }
   ],
   "source": [
    "new_data.head()"
   ],
   "metadata": {
    "collapsed": false,
    "ExecuteTime": {
     "end_time": "2023-08-30T14:05:49.591934500Z",
     "start_time": "2023-08-30T14:05:49.549148400Z"
    }
   },
   "id": "55d4414ec67973c8"
  },
  {
   "cell_type": "code",
   "execution_count": 7,
   "outputs": [],
   "source": [
    "y = new_data['mot_viam']  #variable target\n",
    "X = new_data.drop(columns=['mot_viam'])  #variables input"
   ],
   "metadata": {
    "collapsed": false,
    "ExecuteTime": {
     "end_time": "2023-08-30T14:06:01.449541200Z",
     "start_time": "2023-08-30T14:06:01.416247Z"
    }
   },
   "id": "c17a2cd29259bb9"
  },
  {
   "cell_type": "code",
   "execution_count": 8,
   "outputs": [],
   "source": [
    "from sklearn.model_selection import train_test_split\n",
    "train_X, valid_X, train_y, valid_y = train_test_split(X, y, test_size=0.4, random_state=1)"
   ],
   "metadata": {
    "collapsed": false,
    "ExecuteTime": {
     "end_time": "2023-08-30T14:06:21.841827800Z",
     "start_time": "2023-08-30T14:06:01.469294200Z"
    }
   },
   "id": "24c32f1d0b64acd6"
  },
  {
   "cell_type": "code",
   "execution_count": 9,
   "outputs": [],
   "source": [
    "# run naive Bayes\n",
    "bayes = MultinomialNB(alpha=0.01)\n",
    "bayes.fit(train_X, train_y)\n",
    "\n",
    "# predict probabilities\n",
    "predProb_train = bayes.predict_proba(train_X)\n",
    "predProb_valid = bayes.predict_proba(valid_X)\n",
    "\n",
    "# predict class membership\n",
    "y_train_pred = bayes.predict(train_X)\n",
    "y_valid_pred = bayes.predict(valid_X)"
   ],
   "metadata": {
    "collapsed": false,
    "ExecuteTime": {
     "end_time": "2023-08-30T14:06:35.433639400Z",
     "start_time": "2023-08-30T14:06:21.916380300Z"
    }
   },
   "id": "c8179a7fa14dc2a0"
  },
  {
   "cell_type": "code",
   "execution_count": 10,
   "outputs": [
    {
     "name": "stdout",
     "output_type": "stream",
     "text": [
      "Confusion Matrix (Accuracy 0.6458)\n",
      "\n",
      "       Prediction\n",
      "Actual      0      1      2      3      4      5      6      7\n",
      "     0 422050      0      6     41 218239      0     52     27\n",
      "     1   6657      3      2      0   4187      0      1      6\n",
      "     2  19389      0     35      5  23984      0     33     18\n",
      "     3   3597      0      9    241   9059      0     54      1\n",
      "     4 164124      1     17     95 541614      0     99     17\n",
      "     5    115      0      0      0    108      0      0      0\n",
      "     6  10091      0      0      6   3036      0    111      6\n",
      "     7  42148      1     10     33  23607      0     32    152\n"
     ]
    }
   ],
   "source": [
    "from metric import classificationSummary\n",
    "classificationSummary(train_y, y_train_pred)"
   ],
   "metadata": {
    "collapsed": false,
    "ExecuteTime": {
     "end_time": "2023-08-30T14:06:36.544984400Z",
     "start_time": "2023-08-30T14:06:35.460548Z"
    }
   },
   "id": "d05caac5de1314f0"
  },
  {
   "cell_type": "code",
   "execution_count": 11,
   "outputs": [
    {
     "name": "stdout",
     "output_type": "stream",
     "text": [
      "Confusion Matrix (Accuracy 0.6450)\n",
      "\n",
      "       Prediction\n",
      "Actual      0      1      2      3      4      5      6      7\n",
      "     0 279577      0      4     32 146375      1     28     14\n",
      "     1   4562      0      0      1   2762      0      2      7\n",
      "     2  12742      0     16      7  15945      1     16     11\n",
      "     3   2478      0      3    157   6194      0     42      0\n",
      "     4 109181      2     15     71 362119      1     65     24\n",
      "     5     91      0      0      0     60      0      0      0\n",
      "     6   6821      0      0      3   1989      0    101      8\n",
      "     7  27947      2      5     21  15786      0     21    103\n"
     ]
    }
   ],
   "source": [
    "classificationSummary(valid_y, y_valid_pred)"
   ],
   "metadata": {
    "collapsed": false,
    "ExecuteTime": {
     "end_time": "2023-08-30T14:06:37.207048100Z",
     "start_time": "2023-08-30T14:06:36.551468900Z"
    }
   },
   "id": "61978fc19112d905"
  },
  {
   "cell_type": "code",
   "execution_count": 12,
   "outputs": [
    {
     "name": "stderr",
     "output_type": "stream",
     "text": [
      "C:\\Users\\user\\anaconda3\\Lib\\site-packages\\sklearn\\base.py:439: UserWarning: X does not have valid feature names, but MultinomialNB was fitted with feature names\n",
      "  warnings.warn(\n"
     ]
    },
    {
     "data": {
      "text/plain": "array([5], dtype=int64)"
     },
     "execution_count": 12,
     "metadata": {},
     "output_type": "execute_result"
    }
   ],
   "source": [
    "columns = [\n",
    "    'tip_naci', 'mes_movi', 'dia_movi', 'via_tran', 'mot_viam',\n",
    "    'AMER_SAMOA', 'ANGUILLA', 'ARUBA', 'BELARUS', 'BENIN', 'BULGARIA',\n",
    "    'BURKINA_FASO', 'BURUNDI', 'CAMBODIA', 'CAMEROON', 'CANADA',\n",
    "    'CAPE_VERDE', 'CAYMAN_IS', 'CENT_AFR_REP', 'CHAD', 'CHILE',\n",
    "    'CHINA', 'COLOMBIA', 'CONGO', 'COSTA_RICA', 'COTE_DIVOIRE',\n",
    "    'CROATIA', 'CUBA', 'CYPRUS', 'CZECH_REP', 'DENMARK', 'DJIBOUTI',\n",
    "    'DOMINICA', 'DOMINICAN_RP', 'D_RP_CONGO', 'EGYPT', 'EL_SALVADOR',\n",
    "    'EQ_GUINEA', 'ESTONIA', 'ETHIOPIA', 'FALKLAND_IS', 'FIJI', 'FINLAND',\n",
    "    'FRANCE', 'FR_GUIANA', 'FR_POLYNESIA', 'GABON', 'GAMBIA', 'GEORGIA',\n",
    "    'GERMANY', 'GHANA', 'GREECE', 'GRENADA', 'GUADELOUPE', 'GUATEMALA',\n",
    "    'GUINEA', 'GUINEABISSAU', 'GUYANA', 'HAITI', 'HONDURAS', 'HONGKONG_SAR',\n",
    "    'HUNGARY', 'ICELAND', 'INDIA', 'INDONESIA', 'IRAN', 'IRAQ', 'IRELAND',\n",
    "    'ISRAEL', 'ITALY', 'JAMAICA', 'JAPAN', 'JORDAN', 'KAZAKHSTAN', 'KENYA',\n",
    "    'KIRIBATI', 'KOREA_NORTE', 'KOREA_SUR', 'KUWAIT', 'KYRGYZTAN', 'LATVIA',\n",
    "    'LEBANON', 'LESOTHO', 'LIBERIA', 'LIBYA', 'LIECHTENSTEN', 'LITHUANIA',\n",
    "    'LUXEMBOURG', 'MADAGASCAR', 'MALASIA', 'MALAWI', 'MALDIVES', 'MALI',\n",
    "    'MALTA', 'MARSHALL_IS', 'MARTINIQUE', 'MAURITANIA', 'MAURITIUS',\n",
    "    'MEXICO', 'MICRONESIA', 'MONACO', 'MONGOLIA', 'MOROCCO', 'MOZAMBIQUE',\n",
    "    'MYANMAR', 'NAMIBIA', 'NEPAL', 'NETHERLANDS', 'NEW_ZEALAND', 'NICARAGUA',\n",
    "    'NIGER', 'NIGERIA', 'NORWAY', 'OMAN', 'PAKISTAN', 'PANAMA', 'PAPUA_NGUIN',\n",
    "    'PARAGUAY', 'PERU', 'PHILIPPINES', 'POLAND', 'PORTUGAL', 'PUERTO_RICO',\n",
    "    'QATAR', 'REP_MOLDOVA', 'ROMANIA', 'RUSSIAN_FED', 'RWANDA', 'SAMOA',\n",
    "    'SAN_MARINO', 'SAUDI_ARABIA', 'SENEGAL', 'SEYCHELLES', 'SIERRA_LEONA',\n",
    "    'SINGAPORE', 'SLOVAKIA', 'SLOVENIA', 'SOMALIA', 'SOUTH_AFRICA', 'SPAIN',\n",
    "    'SRI_LANKA', 'ST_KITTS_NEV', 'ST_LUCIA', 'ST_VINCENT_G', 'SUDAN',\n",
    "    'SURINAME', 'SWAZILAND', 'SWEDEN', 'SWITZERLAND', 'SYRIA', 'TAIWAN',\n",
    "    'TAJIKISTAN', 'TANZANIA', 'TFYROM', 'THAILAND', 'TOGO', 'TRINIDAD_TBG',\n",
    "    'TUNISIA', 'TURKEY', 'TURKS_CAICOS', 'UGANDA', 'UK', 'UKRAINE',\n",
    "    'UNTD_ARAB_EM', 'URUGUAY', 'USA', 'USVIRGIN_IS', 'UZBEKISTAN', 'VANUATU',\n",
    "    'VENEZUELA', 'VIET_NAM', 'YEMEN', 'ZAMBIA', 'ZIMBABWE'\n",
    "]\n",
    "\n",
    "mi_diccionario = {}\n",
    "\n",
    "info = {\n",
    "    \"tip_naci\": 1,\n",
    "    \"mes_movi\": 7,\n",
    "    \"dia_movi\": 20,\n",
    "    \"via_tran\": 1,\n",
    "    \"USA\": 1\n",
    "}\n",
    "\n",
    "for columna in columns:\n",
    "    if columna == \"mot_viam\":\n",
    "        continue\n",
    "    if columna in info:\n",
    "        mi_diccionario[columna] = info[columna]\n",
    "    else:\n",
    "        mi_diccionario[columna] = 0\n",
    "\n",
    "df = pd.DataFrame([mi_diccionario])\n",
    "\n",
    "input_data = df.to_numpy()\n",
    "\n",
    "bayes.predict(input_data)"
   ],
   "metadata": {
    "collapsed": false,
    "ExecuteTime": {
     "end_time": "2023-08-30T14:06:37.316693800Z",
     "start_time": "2023-08-30T14:06:37.259433700Z"
    }
   },
   "id": "917e7b0727a3fd1b"
  },
  {
   "cell_type": "code",
   "execution_count": 13,
   "outputs": [
    {
     "name": "stderr",
     "output_type": "stream",
     "text": [
      "C:\\Users\\user\\anaconda3\\Lib\\site-packages\\sklearn\\base.py:439: UserWarning: X does not have valid feature names, but MultinomialNB was fitted with feature names\n",
      "  warnings.warn(\n"
     ]
    },
    {
     "data": {
      "text/plain": "array([1], dtype=int64)"
     },
     "execution_count": 13,
     "metadata": {},
     "output_type": "execute_result"
    }
   ],
   "source": [
    "mi_diccionario = {}\n",
    "\n",
    "info = {\n",
    "    \"tip_naci\": 1,\n",
    "    \"mes_movi\": 12,\n",
    "    \"dia_movi\": 3,\n",
    "    \"via_tran\": 3,\n",
    "    \"PERU\": 1\n",
    "}\n",
    "\n",
    "for columna in columns:\n",
    "    if columna == \"mot_viam\":\n",
    "        continue\n",
    "    if columna in info:\n",
    "        mi_diccionario[columna] = info[columna]\n",
    "    else:\n",
    "        mi_diccionario[columna] = 0\n",
    "\n",
    "df = pd.DataFrame([mi_diccionario])\n",
    "\n",
    "input_data = df.to_numpy()\n",
    "\n",
    "bayes.predict(input_data)"
   ],
   "metadata": {
    "collapsed": false,
    "ExecuteTime": {
     "end_time": "2023-08-30T14:06:37.328338400Z",
     "start_time": "2023-08-30T14:06:37.324695100Z"
    }
   },
   "id": "e184743ef7d3867"
  },
  {
   "cell_type": "code",
   "execution_count": 14,
   "outputs": [
    {
     "name": "stderr",
     "output_type": "stream",
     "text": [
      "C:\\Users\\user\\anaconda3\\Lib\\site-packages\\sklearn\\base.py:439: UserWarning: X does not have valid feature names, but MultinomialNB was fitted with feature names\n",
      "  warnings.warn(\n"
     ]
    },
    {
     "data": {
      "text/plain": "array([[5.21536320e-01, 6.32331531e-03, 5.79501768e-03, 2.40354020e-04,\n        1.47141571e-01, 7.22830837e-04, 1.87278187e-01, 1.30962404e-01]])"
     },
     "execution_count": 14,
     "metadata": {},
     "output_type": "execute_result"
    }
   ],
   "source": [
    "mi_diccionario = {}\n",
    "\n",
    "info = {\n",
    "    \"tip_naci\": 1,\n",
    "    \"mes_movi\": 12,\n",
    "    \"dia_movi\": 3,\n",
    "    \"via_tran\": 3,\n",
    "    \"PERU\": 1\n",
    "}\n",
    "\n",
    "for columna in columns:\n",
    "    if columna == \"mot_viam\":\n",
    "        continue\n",
    "    if columna in info:\n",
    "        mi_diccionario[columna] = info[columna]\n",
    "    else:\n",
    "        mi_diccionario[columna] = 0\n",
    "\n",
    "df = pd.DataFrame([mi_diccionario])\n",
    "\n",
    "input_data = df.to_numpy()\n",
    "\n",
    "bayes.predict_proba(input_data)"
   ],
   "metadata": {
    "collapsed": false,
    "ExecuteTime": {
     "end_time": "2023-08-30T14:06:37.364186Z",
     "start_time": "2023-08-30T14:06:37.340192100Z"
    }
   },
   "id": "f2de958045202d9a"
  },
  {
   "cell_type": "code",
   "execution_count": 15,
   "outputs": [
    {
     "name": "stderr",
     "output_type": "stream",
     "text": [
      "C:\\Users\\user\\anaconda3\\Lib\\site-packages\\sklearn\\base.py:439: UserWarning: X does not have valid feature names, but MultinomialNB was fitted with feature names\n",
      "  warnings.warn(\n"
     ]
    },
    {
     "data": {
      "text/plain": "array([5], dtype=int64)"
     },
     "execution_count": 15,
     "metadata": {},
     "output_type": "execute_result"
    }
   ],
   "source": [
    "mi_diccionario = {}\n",
    "\n",
    "info = {\n",
    "    \"tip_naci\": 1,\n",
    "    \"mes_movi\": 2,\n",
    "    \"dia_movi\": 3,\n",
    "    \"via_tran\": 1,\n",
    "    \"USA\": 1\n",
    "}\n",
    "\n",
    "for columna in columns:\n",
    "    if columna == \"mot_viam\":\n",
    "        continue\n",
    "    if columna in info:\n",
    "        mi_diccionario[columna] = info[columna]\n",
    "    else:\n",
    "        mi_diccionario[columna] = 0\n",
    "\n",
    "df = pd.DataFrame([mi_diccionario])\n",
    "\n",
    "input_data = df.to_numpy()\n",
    "\n",
    "bayes.predict(input_data)"
   ],
   "metadata": {
    "collapsed": false,
    "ExecuteTime": {
     "end_time": "2023-08-30T14:06:37.370948600Z",
     "start_time": "2023-08-30T14:06:37.354620300Z"
    }
   },
   "id": "5b77b89c277b0bc0"
  },
  {
   "cell_type": "code",
   "execution_count": 16,
   "outputs": [],
   "source": [
    "import pickle\n",
    "\n",
    "output_model_file = 'model_bayes2.pkl'\n",
    "\n",
    "with open(output_model_file, 'wb') as f:\n",
    "    pickle.dump(bayes, f)"
   ],
   "metadata": {
    "collapsed": false,
    "ExecuteTime": {
     "end_time": "2023-08-30T14:06:37.409808700Z",
     "start_time": "2023-08-30T14:06:37.373639600Z"
    }
   },
   "id": "6b99ee0c387411d3"
  }
 ],
 "metadata": {
  "kernelspec": {
   "display_name": "Python 3",
   "language": "python",
   "name": "python3"
  },
  "language_info": {
   "codemirror_mode": {
    "name": "ipython",
    "version": 2
   },
   "file_extension": ".py",
   "mimetype": "text/x-python",
   "name": "python",
   "nbconvert_exporter": "python",
   "pygments_lexer": "ipython2",
   "version": "2.7.6"
  }
 },
 "nbformat": 4,
 "nbformat_minor": 5
}

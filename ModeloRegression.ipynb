{
 "cells": [
  {
   "cell_type": "code",
   "execution_count": 1,
   "id": "initial_id",
   "metadata": {
    "collapsed": true,
    "ExecuteTime": {
     "end_time": "2023-09-02T13:13:22.028920500Z",
     "start_time": "2023-09-02T13:12:47.154780100Z"
    }
   },
   "outputs": [],
   "source": [
    "import pandas as pd\n",
    "from sklearn.model_selection import train_test_split\n",
    "from sklearn.linear_model import LogisticRegression\n",
    "from metric import classificationSummary\n",
    "from sklearn.metrics import confusion_matrix, accuracy_score, ConfusionMatrixDisplay"
   ]
  },
  {
   "cell_type": "code",
   "execution_count": 2,
   "outputs": [
    {
     "name": "stdout",
     "output_type": "stream",
     "text": [
      "<class 'pandas.core.frame.DataFrame'>\n",
      "RangeIndex: 2488532 entries, 0 to 2488531\n",
      "Columns: 174 entries, tip_naci to ZIMBABWE\n",
      "dtypes: int64(174)\n",
      "memory usage: 3.2 GB\n"
     ]
    }
   ],
   "source": [
    "new_data = pd.read_csv('salidas.csv')\n",
    "new_data.info()"
   ],
   "metadata": {
    "collapsed": false,
    "ExecuteTime": {
     "end_time": "2023-09-02T13:13:41.569793800Z",
     "start_time": "2023-09-02T13:13:22.030921100Z"
    }
   },
   "id": "7dbeaf9b993cd1fa"
  },
  {
   "cell_type": "code",
   "execution_count": 3,
   "outputs": [],
   "source": [
    "y = new_data['mot_viam']  #variable target\n",
    "X = new_data.drop(columns=['mot_viam'])  #variables input"
   ],
   "metadata": {
    "collapsed": false,
    "ExecuteTime": {
     "end_time": "2023-09-02T13:13:42.626011700Z",
     "start_time": "2023-09-02T13:13:42.624013400Z"
    }
   },
   "id": "b6732371d179d6a1"
  },
  {
   "cell_type": "code",
   "execution_count": 4,
   "outputs": [
    {
     "data": {
      "text/plain": "(2488532, 173)"
     },
     "execution_count": 4,
     "metadata": {},
     "output_type": "execute_result"
    }
   ],
   "source": [
    "X.shape"
   ],
   "metadata": {
    "collapsed": false,
    "ExecuteTime": {
     "end_time": "2023-09-02T13:13:42.658610500Z",
     "start_time": "2023-09-02T13:13:42.631038300Z"
    }
   },
   "id": "bfc07ee317e87bc3"
  },
  {
   "cell_type": "code",
   "execution_count": 5,
   "outputs": [],
   "source": [
    "train_X, valid_X, train_y, valid_y = train_test_split(X, y, test_size=0.4, random_state=1)"
   ],
   "metadata": {
    "collapsed": false,
    "ExecuteTime": {
     "end_time": "2023-09-02T13:13:57.201693100Z",
     "start_time": "2023-09-02T13:13:42.652301100Z"
    }
   },
   "id": "9c486f92313540c5"
  },
  {
   "cell_type": "code",
   "execution_count": 6,
   "outputs": [
    {
     "data": {
      "text/plain": "LogisticRegression(C=1e+42, solver='liblinear')",
      "text/html": "<style>#sk-container-id-1 {color: black;background-color: white;}#sk-container-id-1 pre{padding: 0;}#sk-container-id-1 div.sk-toggleable {background-color: white;}#sk-container-id-1 label.sk-toggleable__label {cursor: pointer;display: block;width: 100%;margin-bottom: 0;padding: 0.3em;box-sizing: border-box;text-align: center;}#sk-container-id-1 label.sk-toggleable__label-arrow:before {content: \"▸\";float: left;margin-right: 0.25em;color: #696969;}#sk-container-id-1 label.sk-toggleable__label-arrow:hover:before {color: black;}#sk-container-id-1 div.sk-estimator:hover label.sk-toggleable__label-arrow:before {color: black;}#sk-container-id-1 div.sk-toggleable__content {max-height: 0;max-width: 0;overflow: hidden;text-align: left;background-color: #f0f8ff;}#sk-container-id-1 div.sk-toggleable__content pre {margin: 0.2em;color: black;border-radius: 0.25em;background-color: #f0f8ff;}#sk-container-id-1 input.sk-toggleable__control:checked~div.sk-toggleable__content {max-height: 200px;max-width: 100%;overflow: auto;}#sk-container-id-1 input.sk-toggleable__control:checked~label.sk-toggleable__label-arrow:before {content: \"▾\";}#sk-container-id-1 div.sk-estimator input.sk-toggleable__control:checked~label.sk-toggleable__label {background-color: #d4ebff;}#sk-container-id-1 div.sk-label input.sk-toggleable__control:checked~label.sk-toggleable__label {background-color: #d4ebff;}#sk-container-id-1 input.sk-hidden--visually {border: 0;clip: rect(1px 1px 1px 1px);clip: rect(1px, 1px, 1px, 1px);height: 1px;margin: -1px;overflow: hidden;padding: 0;position: absolute;width: 1px;}#sk-container-id-1 div.sk-estimator {font-family: monospace;background-color: #f0f8ff;border: 1px dotted black;border-radius: 0.25em;box-sizing: border-box;margin-bottom: 0.5em;}#sk-container-id-1 div.sk-estimator:hover {background-color: #d4ebff;}#sk-container-id-1 div.sk-parallel-item::after {content: \"\";width: 100%;border-bottom: 1px solid gray;flex-grow: 1;}#sk-container-id-1 div.sk-label:hover label.sk-toggleable__label {background-color: #d4ebff;}#sk-container-id-1 div.sk-serial::before {content: \"\";position: absolute;border-left: 1px solid gray;box-sizing: border-box;top: 0;bottom: 0;left: 50%;z-index: 0;}#sk-container-id-1 div.sk-serial {display: flex;flex-direction: column;align-items: center;background-color: white;padding-right: 0.2em;padding-left: 0.2em;position: relative;}#sk-container-id-1 div.sk-item {position: relative;z-index: 1;}#sk-container-id-1 div.sk-parallel {display: flex;align-items: stretch;justify-content: center;background-color: white;position: relative;}#sk-container-id-1 div.sk-item::before, #sk-container-id-1 div.sk-parallel-item::before {content: \"\";position: absolute;border-left: 1px solid gray;box-sizing: border-box;top: 0;bottom: 0;left: 50%;z-index: -1;}#sk-container-id-1 div.sk-parallel-item {display: flex;flex-direction: column;z-index: 1;position: relative;background-color: white;}#sk-container-id-1 div.sk-parallel-item:first-child::after {align-self: flex-end;width: 50%;}#sk-container-id-1 div.sk-parallel-item:last-child::after {align-self: flex-start;width: 50%;}#sk-container-id-1 div.sk-parallel-item:only-child::after {width: 0;}#sk-container-id-1 div.sk-dashed-wrapped {border: 1px dashed gray;margin: 0 0.4em 0.5em 0.4em;box-sizing: border-box;padding-bottom: 0.4em;background-color: white;}#sk-container-id-1 div.sk-label label {font-family: monospace;font-weight: bold;display: inline-block;line-height: 1.2em;}#sk-container-id-1 div.sk-label-container {text-align: center;}#sk-container-id-1 div.sk-container {/* jupyter's `normalize.less` sets `[hidden] { display: none; }` but bootstrap.min.css set `[hidden] { display: none !important; }` so we also need the `!important` here to be able to override the default hidden behavior on the sphinx rendered scikit-learn.org. See: https://github.com/scikit-learn/scikit-learn/issues/21755 */display: inline-block !important;position: relative;}#sk-container-id-1 div.sk-text-repr-fallback {display: none;}</style><div id=\"sk-container-id-1\" class=\"sk-top-container\"><div class=\"sk-text-repr-fallback\"><pre>LogisticRegression(C=1e+42, solver=&#x27;liblinear&#x27;)</pre><b>In a Jupyter environment, please rerun this cell to show the HTML representation or trust the notebook. <br />On GitHub, the HTML representation is unable to render, please try loading this page with nbviewer.org.</b></div><div class=\"sk-container\" hidden><div class=\"sk-item\"><div class=\"sk-estimator sk-toggleable\"><input class=\"sk-toggleable__control sk-hidden--visually\" id=\"sk-estimator-id-1\" type=\"checkbox\" checked><label for=\"sk-estimator-id-1\" class=\"sk-toggleable__label sk-toggleable__label-arrow\">LogisticRegression</label><div class=\"sk-toggleable__content\"><pre>LogisticRegression(C=1e+42, solver=&#x27;liblinear&#x27;)</pre></div></div></div></div></div>"
     },
     "execution_count": 6,
     "metadata": {},
     "output_type": "execute_result"
    }
   ],
   "source": [
    "logit_reg = LogisticRegression(penalty=\"l2\", C=1e42, solver='liblinear')\n",
    "logit_reg.fit(train_X, train_y)"
   ],
   "metadata": {
    "collapsed": false,
    "ExecuteTime": {
     "end_time": "2023-09-02T13:16:41.567238900Z",
     "start_time": "2023-09-02T13:13:57.223325700Z"
    }
   },
   "id": "376e4621623738e"
  },
  {
   "cell_type": "code",
   "execution_count": 7,
   "outputs": [
    {
     "name": "stdout",
     "output_type": "stream",
     "text": [
      "Confusion Matrix (Accuracy 0.7908)\n",
      "\n",
      "       Prediction\n",
      "Actual      0      1      2      3      4      5      6      7\n",
      "     0 381086      1      9     56  44852      0     13     14\n",
      "     1   5698      0      2      3   1623      0      1      7\n",
      "     2  19352      1      0     13   9359      0      1     12\n",
      "     3   7768      0      4    332    770      0      0      0\n",
      "     4  65846      1     16     49 405532      0     11     23\n",
      "     5      0      0      0      0    151      0      0      0\n",
      "     6   5484      0      0      0   3361      0     69      8\n",
      "     7  25547      1      7     13  18213      0      0    104\n"
     ]
    }
   ],
   "source": [
    "classificationSummary(valid_y, logit_reg.predict(valid_X))"
   ],
   "metadata": {
    "collapsed": false,
    "ExecuteTime": {
     "end_time": "2023-09-02T13:16:43.886020400Z",
     "start_time": "2023-09-02T13:16:41.572750Z"
    }
   },
   "id": "32c55acab13bf8a2"
  },
  {
   "cell_type": "code",
   "execution_count": null,
   "outputs": [],
   "source": [
    "import pickle\n",
    "\n",
    "output_model_file = 'model_logit_reg.pkl'\n",
    "\n",
    "with open(output_model_file, 'wb') as f:\n",
    "    pickle.dump(logit_reg, f)"
   ],
   "metadata": {
    "collapsed": false,
    "ExecuteTime": {
     "end_time": "2023-09-02T13:16:47.370085Z",
     "start_time": "2023-09-02T13:16:47.345791Z"
    }
   },
   "id": "792d167585fee944"
  },
  {
   "cell_type": "code",
   "execution_count": null,
   "outputs": [],
   "source": [
    "columns = [\n",
    "    'tip_naci', 'mes_movi', 'dia_movi', 'via_tran', 'mot_viam',\n",
    "    'AMER_SAMOA', 'ANGUILLA', 'ARUBA', 'BELARUS', 'BENIN', 'BULGARIA',\n",
    "    'BURKINA_FASO', 'BURUNDI', 'CAMBODIA', 'CAMEROON', 'CANADA',\n",
    "    'CAPE_VERDE', 'CAYMAN_IS', 'CENT_AFR_REP', 'CHAD', 'CHILE',\n",
    "    'CHINA', 'COLOMBIA', 'CONGO', 'COSTA_RICA', 'COTE_DIVOIRE',\n",
    "    'CROATIA', 'CUBA', 'CYPRUS', 'CZECH_REP', 'DENMARK', 'DJIBOUTI',\n",
    "    'DOMINICA', 'DOMINICAN_RP', 'D_RP_CONGO', 'EGYPT', 'EL_SALVADOR',\n",
    "    'EQ_GUINEA', 'ESTONIA', 'ETHIOPIA', 'FALKLAND_IS', 'FIJI', 'FINLAND',\n",
    "    'FRANCE', 'FR_GUIANA', 'FR_POLYNESIA', 'GABON', 'GAMBIA', 'GEORGIA',\n",
    "    'GERMANY', 'GHANA', 'GREECE', 'GRENADA', 'GUADELOUPE', 'GUATEMALA',\n",
    "    'GUINEA', 'GUINEABISSAU', 'GUYANA', 'HAITI', 'HONDURAS', 'HONGKONG_SAR',\n",
    "    'HUNGARY', 'ICELAND', 'INDIA', 'INDONESIA', 'IRAN', 'IRAQ', 'IRELAND',\n",
    "    'ISRAEL', 'ITALY', 'JAMAICA', 'JAPAN', 'JORDAN', 'KAZAKHSTAN', 'KENYA',\n",
    "    'KIRIBATI', 'KOREA_NORTE', 'KOREA_SUR', 'KUWAIT', 'KYRGYZTAN', 'LATVIA',\n",
    "    'LEBANON', 'LESOTHO', 'LIBERIA', 'LIBYA', 'LIECHTENSTEN', 'LITHUANIA',\n",
    "    'LUXEMBOURG', 'MADAGASCAR', 'MALASIA', 'MALAWI', 'MALDIVES', 'MALI',\n",
    "    'MALTA', 'MARSHALL_IS', 'MARTINIQUE', 'MAURITANIA', 'MAURITIUS',\n",
    "    'MEXICO', 'MICRONESIA', 'MONACO', 'MONGOLIA', 'MOROCCO', 'MOZAMBIQUE',\n",
    "    'MYANMAR', 'NAMIBIA', 'NEPAL', 'NETHERLANDS', 'NEW_ZEALAND', 'NICARAGUA',\n",
    "    'NIGER', 'NIGERIA', 'NORWAY', 'OMAN', 'PAKISTAN', 'PANAMA', 'PAPUA_NGUIN',\n",
    "    'PARAGUAY', 'PERU', 'PHILIPPINES', 'POLAND', 'PORTUGAL', 'PUERTO_RICO',\n",
    "    'QATAR', 'REP_MOLDOVA', 'ROMANIA', 'RUSSIAN_FED', 'RWANDA', 'SAMOA',\n",
    "    'SAN_MARINO', 'SAUDI_ARABIA', 'SENEGAL', 'SEYCHELLES', 'SIERRA_LEONA',\n",
    "    'SINGAPORE', 'SLOVAKIA', 'SLOVENIA', 'SOMALIA', 'SOUTH_AFRICA', 'SPAIN',\n",
    "    'SRI_LANKA', 'ST_KITTS_NEV', 'ST_LUCIA', 'ST_VINCENT_G', 'SUDAN',\n",
    "    'SURINAME', 'SWAZILAND', 'SWEDEN', 'SWITZERLAND', 'SYRIA', 'TAIWAN',\n",
    "    'TAJIKISTAN', 'TANZANIA', 'TFYROM', 'THAILAND', 'TOGO', 'TRINIDAD_TBG',\n",
    "    'TUNISIA', 'TURKEY', 'TURKS_CAICOS', 'UGANDA', 'UK', 'UKRAINE',\n",
    "    'UNTD_ARAB_EM', 'URUGUAY', 'USA', 'USVIRGIN_IS', 'UZBEKISTAN', 'VANUATU',\n",
    "    'VENEZUELA', 'VIET_NAM', 'YEMEN', 'ZAMBIA', 'ZIMBABWE'\n",
    "]\n",
    "\n",
    "mi_diccionario = {}\n",
    "\n",
    "info = {\n",
    "    \"tip_naci\": 1,\n",
    "    \"mes_movi\": 7,\n",
    "    \"dia_movi\": 20,\n",
    "    \"via_tran\": 1,\n",
    "    \"USA\": 1\n",
    "}\n",
    "\n",
    "for columna in columns:\n",
    "    if columna == \"mot_viam\":\n",
    "        continue\n",
    "    if columna in info:\n",
    "        mi_diccionario[columna] = info[columna]\n",
    "    else:\n",
    "        mi_diccionario[columna] = 0\n",
    "\n",
    "df = pd.DataFrame([mi_diccionario])\n",
    "\n",
    "input_data = df.to_numpy()\n",
    "\n",
    "logit_reg.predict(input_data)"
   ],
   "metadata": {
    "collapsed": false,
    "ExecuteTime": {
     "start_time": "2023-09-02T13:16:47.347790800Z"
    }
   },
   "id": "8d9202f9e8fa1578"
  },
  {
   "cell_type": "code",
   "execution_count": null,
   "outputs": [],
   "source": [
    "mi_diccionario = {}\n",
    "\n",
    "info = {\n",
    "    \"tip_naci\": 1,\n",
    "    \"mes_movi\": 2,\n",
    "    \"dia_movi\": 3,\n",
    "    \"via_tran\": 1,\n",
    "    \"USA\": 1\n",
    "}\n",
    "\n",
    "for columna in columns:\n",
    "    if columna == \"mot_viam\":\n",
    "        continue\n",
    "    if columna in info:\n",
    "        mi_diccionario[columna] = info[columna]\n",
    "    else:\n",
    "        mi_diccionario[columna] = 0\n",
    "\n",
    "df = pd.DataFrame([mi_diccionario])\n",
    "\n",
    "input_data = df.to_numpy()\n",
    "\n",
    "logit_reg.predict(input_data)"
   ],
   "metadata": {
    "collapsed": false,
    "ExecuteTime": {
     "start_time": "2023-09-02T13:16:47.349789800Z"
    }
   },
   "id": "a3ac843769aa92d2"
  },
  {
   "cell_type": "code",
   "execution_count": null,
   "outputs": [],
   "source": [
    "mi_diccionario = {}\n",
    "\n",
    "info = {\n",
    "    \"tip_naci\": 1,\n",
    "    \"mes_movi\": 12,\n",
    "    \"dia_movi\": 3,\n",
    "    \"via_tran\": 3,\n",
    "    \"PERU\": 1\n",
    "}\n",
    "\n",
    "for columna in columns:\n",
    "    if columna == \"mot_viam\":\n",
    "        continue\n",
    "    if columna in info:\n",
    "        mi_diccionario[columna] = info[columna]\n",
    "    else:\n",
    "        mi_diccionario[columna] = 0\n",
    "\n",
    "df = pd.DataFrame([mi_diccionario])\n",
    "\n",
    "input_data = df.to_numpy()\n",
    "\n",
    "logit_reg.predict(input_data)"
   ],
   "metadata": {
    "collapsed": false,
    "ExecuteTime": {
     "start_time": "2023-09-02T13:16:47.351793800Z"
    }
   },
   "id": "43af704a1d7160a"
  },
  {
   "cell_type": "code",
   "execution_count": null,
   "outputs": [],
   "source": [],
   "metadata": {
    "collapsed": false,
    "ExecuteTime": {
     "start_time": "2023-09-02T13:16:47.355576700Z"
    }
   },
   "id": "ce146ea6b29820b0"
  }
 ],
 "metadata": {
  "kernelspec": {
   "display_name": "Python 3",
   "language": "python",
   "name": "python3"
  },
  "language_info": {
   "codemirror_mode": {
    "name": "ipython",
    "version": 2
   },
   "file_extension": ".py",
   "mimetype": "text/x-python",
   "name": "python",
   "nbconvert_exporter": "python",
   "pygments_lexer": "ipython2",
   "version": "2.7.6"
  }
 },
 "nbformat": 4,
 "nbformat_minor": 5
}

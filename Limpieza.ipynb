{
 "cells": [
  {
   "cell_type": "code",
   "execution_count": 1,
   "id": "initial_id",
   "metadata": {
    "is_executing": true,
    "tags": []
   },
   "outputs": [],
   "source": [
    "import pandas as pd"
   ]
  },
  {
   "cell_type": "code",
   "execution_count": 2,
   "id": "c05ad76e2f70bd2e",
   "metadata": {
    "collapsed": false,
    "jupyter": {
     "outputs_hidden": false
    },
    "tags": []
   },
   "outputs": [],
   "source": [
    "data = pd.read_csv('esi_2022.csv')"
   ]
  },
  {
   "cell_type": "code",
   "execution_count": 3,
   "id": "b2b072114b033fdb",
   "metadata": {
    "collapsed": false,
    "jupyter": {
     "outputs_hidden": false
    },
    "tags": []
   },
   "outputs": [
    {
     "data": {
      "text/plain": [
       "(5052633, 1)"
      ]
     },
     "execution_count": 3,
     "metadata": {},
     "output_type": "execute_result"
    }
   ],
   "source": [
    "data.shape"
   ]
  },
  {
   "cell_type": "code",
   "execution_count": 4,
   "id": "78ac32fba2f597a0",
   "metadata": {
    "collapsed": false,
    "jupyter": {
     "outputs_hidden": false
    },
    "tags": []
   },
   "outputs": [
    {
     "data": {
      "text/html": [
       "<div>\n",
       "<style scoped>\n",
       "    .dataframe tbody tr th:only-of-type {\n",
       "        vertical-align: middle;\n",
       "    }\n",
       "\n",
       "    .dataframe tbody tr th {\n",
       "        vertical-align: top;\n",
       "    }\n",
       "\n",
       "    .dataframe thead th {\n",
       "        text-align: right;\n",
       "    }\n",
       "</style>\n",
       "<table border=\"1\" class=\"dataframe\">\n",
       "  <thead>\n",
       "    <tr style=\"text-align: right;\">\n",
       "      <th></th>\n",
       "      <th>;\"tip_movi\";\"tip_naci\";\"anio_movi\";\"mes_movi\";\"dia_movi\";\"sex_migr\";\"nac_migr\";\"subcont_nac\";\"cont_nac\";\"via_tran\";\"mot_viam\";\"pais_prod\";\"subcont_prod\";\"cont_prod\";\"lug_prod\";\"pais_res\";\"subcont_res\";\"cont_res\";\"jef_migr\";\"pro_jefm\";\"can_jefm\";\"cla_migr\";\"ocu_migr\";\"edad\"</th>\n",
       "    </tr>\n",
       "  </thead>\n",
       "  <tbody>\n",
       "    <tr>\n",
       "      <th>0</th>\n",
       "      <td>1;2;1;2022;4;20;2;218;13;1;1;5;32;13;1;32017;3...</td>\n",
       "    </tr>\n",
       "    <tr>\n",
       "      <th>1</th>\n",
       "      <td>2;1;1;2022;5;26;2;218;13;1;1;5;756;24;2;756006...</td>\n",
       "    </tr>\n",
       "    <tr>\n",
       "      <th>2</th>\n",
       "      <td>3;2;1;2022;12;8;1;218;13;1;2;5;170;13;1;170010...</td>\n",
       "    </tr>\n",
       "    <tr>\n",
       "      <th>3</th>\n",
       "      <td>4;2;1;2022;10;3;1;218;13;1;1;1;840;11;1;840095...</td>\n",
       "    </tr>\n",
       "    <tr>\n",
       "      <th>4</th>\n",
       "      <td>5;1;1;2022;2;1;2;218;13;1;1;5;724;23;2;724045;...</td>\n",
       "    </tr>\n",
       "  </tbody>\n",
       "</table>\n",
       "</div>"
      ],
      "text/plain": [
       "  ;\"tip_movi\";\"tip_naci\";\"anio_movi\";\"mes_movi\";\"dia_movi\";\"sex_migr\";\"nac_migr\";\"subcont_nac\";\"cont_nac\";\"via_tran\";\"mot_viam\";\"pais_prod\";\"subcont_prod\";\"cont_prod\";\"lug_prod\";\"pais_res\";\"subcont_res\";\"cont_res\";\"jef_migr\";\"pro_jefm\";\"can_jefm\";\"cla_migr\";\"ocu_migr\";\"edad\"\n",
       "0  1;2;1;2022;4;20;2;218;13;1;1;5;32;13;1;32017;3...                                                                                                                                                                                                                               \n",
       "1  2;1;1;2022;5;26;2;218;13;1;1;5;756;24;2;756006...                                                                                                                                                                                                                               \n",
       "2  3;2;1;2022;12;8;1;218;13;1;2;5;170;13;1;170010...                                                                                                                                                                                                                               \n",
       "3  4;2;1;2022;10;3;1;218;13;1;1;1;840;11;1;840095...                                                                                                                                                                                                                               \n",
       "4  5;1;1;2022;2;1;2;218;13;1;1;5;724;23;2;724045;...                                                                                                                                                                                                                               "
      ]
     },
     "execution_count": 4,
     "metadata": {},
     "output_type": "execute_result"
    }
   ],
   "source": [
    "data.head(5)"
   ]
  },
  {
   "cell_type": "code",
   "execution_count": 5,
   "id": "c95fb754bc54fb3f",
   "metadata": {
    "collapsed": false,
    "jupyter": {
     "outputs_hidden": false
    },
    "tags": []
   },
   "outputs": [
    {
     "name": "stdout",
     "output_type": "stream",
     "text": [
      "<class 'pandas.core.frame.DataFrame'>\n",
      "RangeIndex: 5052633 entries, 0 to 5052632\n",
      "Data columns (total 1 columns):\n",
      " #   Column                                                                                                                                                                                                                                                                             Dtype \n",
      "---  ------                                                                                                                                                                                                                                                                             ----- \n",
      " 0   ;\"tip_movi\";\"tip_naci\";\"anio_movi\";\"mes_movi\";\"dia_movi\";\"sex_migr\";\"nac_migr\";\"subcont_nac\";\"cont_nac\";\"via_tran\";\"mot_viam\";\"pais_prod\";\"subcont_prod\";\"cont_prod\";\"lug_prod\";\"pais_res\";\"subcont_res\";\"cont_res\";\"jef_migr\";\"pro_jefm\";\"can_jefm\";\"cla_migr\";\"ocu_migr\";\"edad\"  object\n",
      "dtypes: object(1)\n",
      "memory usage: 38.5+ MB\n"
     ]
    }
   ],
   "source": [
    "data.info()"
   ]
  },
  {
   "cell_type": "code",
   "execution_count": 12,
   "id": "b03e3995-e65a-4c25-b835-af33744b644b",
   "metadata": {
    "tags": []
   },
   "outputs": [
    {
     "data": {
      "text/plain": [
       "Index([';\"tip_movi\";\"tip_naci\";\"anio_movi\";\"mes_movi\";\"dia_movi\";\"sex_migr\";\"nac_migr\";\"subcont_nac\";\"cont_nac\";\"via_tran\";\"mot_viam\";\"pais_prod\";\"subcont_prod\";\"cont_prod\";\"lug_prod\";\"pais_res\";\"subcont_res\";\"cont_res\";\"jef_migr\";\"pro_jefm\";\"can_jefm\";\"cla_migr\";\"ocu_migr\";\"edad\"'], dtype='object')"
      ]
     },
     "execution_count": 12,
     "metadata": {},
     "output_type": "execute_result"
    }
   ],
   "source": [
    "data.columns"
   ]
  },
  {
   "cell_type": "code",
   "execution_count": 20,
   "id": "cac54130-66c7-48b7-84fa-5473436b2ed0",
   "metadata": {
    "tags": []
   },
   "outputs": [
    {
     "data": {
      "text/plain": [
       "(5052633, 25)"
      ]
     },
     "execution_count": 20,
     "metadata": {},
     "output_type": "execute_result"
    }
   ],
   "source": [
    "data = data[';\"tip_movi\";\"tip_naci\";\"anio_movi\";\"mes_movi\";\"dia_movi\";\"sex_migr\";\"nac_migr\";\"subcont_nac\";\"cont_nac\";\"via_tran\";\"mot_viam\";\"pais_prod\";\"subcont_prod\";\"cont_prod\";\"lug_prod\";\"pais_res\";\"subcont_res\";\"cont_res\";\"jef_migr\";\"pro_jefm\";\"can_jefm\";\"cla_migr\";\"ocu_migr\";\"edad\"'].str.split(';', expand=True)\n",
    "data.shape"
   ]
  },
  {
   "cell_type": "code",
   "execution_count": 22,
   "id": "54133490-6350-41c9-be10-9d9c0974e424",
   "metadata": {
    "tags": []
   },
   "outputs": [
    {
     "data": {
      "text/plain": [
       "0     object\n",
       "1     object\n",
       "2     object\n",
       "3     object\n",
       "4     object\n",
       "5     object\n",
       "6     object\n",
       "7     object\n",
       "8     object\n",
       "9     object\n",
       "10    object\n",
       "11    object\n",
       "12    object\n",
       "13    object\n",
       "14    object\n",
       "15    object\n",
       "16    object\n",
       "17    object\n",
       "18    object\n",
       "19    object\n",
       "20    object\n",
       "21    object\n",
       "22    object\n",
       "23    object\n",
       "24    object\n",
       "dtype: object"
      ]
     },
     "execution_count": 22,
     "metadata": {},
     "output_type": "execute_result"
    }
   ],
   "source": [
    "data.dtypes"
   ]
  },
  {
   "cell_type": "code",
   "execution_count": 23,
   "id": "44bc08fa-a55f-4894-badb-251170a0219e",
   "metadata": {
    "tags": []
   },
   "outputs": [
    {
     "data": {
      "text/html": [
       "<div>\n",
       "<style scoped>\n",
       "    .dataframe tbody tr th:only-of-type {\n",
       "        vertical-align: middle;\n",
       "    }\n",
       "\n",
       "    .dataframe tbody tr th {\n",
       "        vertical-align: top;\n",
       "    }\n",
       "\n",
       "    .dataframe thead th {\n",
       "        text-align: right;\n",
       "    }\n",
       "</style>\n",
       "<table border=\"1\" class=\"dataframe\">\n",
       "  <thead>\n",
       "    <tr style=\"text-align: right;\">\n",
       "      <th></th>\n",
       "      <th>0</th>\n",
       "      <th>1</th>\n",
       "      <th>2</th>\n",
       "      <th>3</th>\n",
       "      <th>4</th>\n",
       "      <th>5</th>\n",
       "      <th>6</th>\n",
       "      <th>7</th>\n",
       "      <th>8</th>\n",
       "      <th>9</th>\n",
       "      <th>...</th>\n",
       "      <th>15</th>\n",
       "      <th>16</th>\n",
       "      <th>17</th>\n",
       "      <th>18</th>\n",
       "      <th>19</th>\n",
       "      <th>20</th>\n",
       "      <th>21</th>\n",
       "      <th>22</th>\n",
       "      <th>23</th>\n",
       "      <th>24</th>\n",
       "    </tr>\n",
       "  </thead>\n",
       "  <tbody>\n",
       "    <tr>\n",
       "      <th>0</th>\n",
       "      <td>1</td>\n",
       "      <td>2</td>\n",
       "      <td>1</td>\n",
       "      <td>2022</td>\n",
       "      <td>4</td>\n",
       "      <td>20</td>\n",
       "      <td>2</td>\n",
       "      <td>218</td>\n",
       "      <td>13</td>\n",
       "      <td>1</td>\n",
       "      <td>...</td>\n",
       "      <td>32017</td>\n",
       "      <td>32</td>\n",
       "      <td>13</td>\n",
       "      <td>1</td>\n",
       "      <td>1</td>\n",
       "      <td>17</td>\n",
       "      <td>1701</td>\n",
       "      <td>88</td>\n",
       "      <td>66666</td>\n",
       "      <td>23</td>\n",
       "    </tr>\n",
       "    <tr>\n",
       "      <th>1</th>\n",
       "      <td>2</td>\n",
       "      <td>1</td>\n",
       "      <td>1</td>\n",
       "      <td>2022</td>\n",
       "      <td>5</td>\n",
       "      <td>26</td>\n",
       "      <td>2</td>\n",
       "      <td>218</td>\n",
       "      <td>13</td>\n",
       "      <td>1</td>\n",
       "      <td>...</td>\n",
       "      <td>756006</td>\n",
       "      <td>218</td>\n",
       "      <td>13</td>\n",
       "      <td>1</td>\n",
       "      <td>1</td>\n",
       "      <td>17</td>\n",
       "      <td>1701</td>\n",
       "      <td>88</td>\n",
       "      <td>55555</td>\n",
       "      <td>68</td>\n",
       "    </tr>\n",
       "    <tr>\n",
       "      <th>2</th>\n",
       "      <td>3</td>\n",
       "      <td>2</td>\n",
       "      <td>1</td>\n",
       "      <td>2022</td>\n",
       "      <td>12</td>\n",
       "      <td>8</td>\n",
       "      <td>1</td>\n",
       "      <td>218</td>\n",
       "      <td>13</td>\n",
       "      <td>1</td>\n",
       "      <td>...</td>\n",
       "      <td>170010</td>\n",
       "      <td>218</td>\n",
       "      <td>13</td>\n",
       "      <td>1</td>\n",
       "      <td>11</td>\n",
       "      <td>4</td>\n",
       "      <td>401</td>\n",
       "      <td>88</td>\n",
       "      <td>88888</td>\n",
       "      <td>14</td>\n",
       "    </tr>\n",
       "  </tbody>\n",
       "</table>\n",
       "<p>3 rows × 25 columns</p>\n",
       "</div>"
      ],
      "text/plain": [
       "  0  1  2     3   4   5  6    7   8  9   ...      15   16  17 18  19  20  \\\n",
       "0  1  2  1  2022   4  20  2  218  13  1  ...   32017   32  13  1   1  17   \n",
       "1  2  1  1  2022   5  26  2  218  13  1  ...  756006  218  13  1   1  17   \n",
       "2  3  2  1  2022  12   8  1  218  13  1  ...  170010  218  13  1  11   4   \n",
       "\n",
       "     21  22     23  24  \n",
       "0  1701  88  66666  23  \n",
       "1  1701  88  55555  68  \n",
       "2   401  88  88888  14  \n",
       "\n",
       "[3 rows x 25 columns]"
      ]
     },
     "execution_count": 23,
     "metadata": {},
     "output_type": "execute_result"
    }
   ],
   "source": [
    "data.head(3)"
   ]
  },
  {
   "cell_type": "code",
   "execution_count": 24,
   "id": "90c01db6-960a-4f03-b30f-5bdbfc73c65c",
   "metadata": {
    "tags": []
   },
   "outputs": [
    {
     "data": {
      "text/html": [
       "<div>\n",
       "<style scoped>\n",
       "    .dataframe tbody tr th:only-of-type {\n",
       "        vertical-align: middle;\n",
       "    }\n",
       "\n",
       "    .dataframe tbody tr th {\n",
       "        vertical-align: top;\n",
       "    }\n",
       "\n",
       "    .dataframe thead th {\n",
       "        text-align: right;\n",
       "    }\n",
       "</style>\n",
       "<table border=\"1\" class=\"dataframe\">\n",
       "  <thead>\n",
       "    <tr style=\"text-align: right;\">\n",
       "      <th></th>\n",
       "      <th>indice</th>\n",
       "      <th>tip_movi</th>\n",
       "      <th>tip_naci</th>\n",
       "      <th>anio_movi</th>\n",
       "      <th>mes_movi</th>\n",
       "      <th>dia_movi</th>\n",
       "      <th>sex_migr</th>\n",
       "      <th>nac_migr</th>\n",
       "      <th>subcont_nac</th>\n",
       "      <th>cont_nac</th>\n",
       "      <th>...</th>\n",
       "      <th>lug_prod</th>\n",
       "      <th>pais_res</th>\n",
       "      <th>subcont_res</th>\n",
       "      <th>cont_res</th>\n",
       "      <th>jef_migr</th>\n",
       "      <th>pro_jefm</th>\n",
       "      <th>can_jefm</th>\n",
       "      <th>cla_migr</th>\n",
       "      <th>ocu_migr</th>\n",
       "      <th>edad</th>\n",
       "    </tr>\n",
       "  </thead>\n",
       "  <tbody>\n",
       "    <tr>\n",
       "      <th>0</th>\n",
       "      <td>1</td>\n",
       "      <td>2</td>\n",
       "      <td>1</td>\n",
       "      <td>2022</td>\n",
       "      <td>4</td>\n",
       "      <td>20</td>\n",
       "      <td>2</td>\n",
       "      <td>218</td>\n",
       "      <td>13</td>\n",
       "      <td>1</td>\n",
       "      <td>...</td>\n",
       "      <td>32017</td>\n",
       "      <td>32</td>\n",
       "      <td>13</td>\n",
       "      <td>1</td>\n",
       "      <td>1</td>\n",
       "      <td>17</td>\n",
       "      <td>1701</td>\n",
       "      <td>88</td>\n",
       "      <td>66666</td>\n",
       "      <td>23</td>\n",
       "    </tr>\n",
       "    <tr>\n",
       "      <th>1</th>\n",
       "      <td>2</td>\n",
       "      <td>1</td>\n",
       "      <td>1</td>\n",
       "      <td>2022</td>\n",
       "      <td>5</td>\n",
       "      <td>26</td>\n",
       "      <td>2</td>\n",
       "      <td>218</td>\n",
       "      <td>13</td>\n",
       "      <td>1</td>\n",
       "      <td>...</td>\n",
       "      <td>756006</td>\n",
       "      <td>218</td>\n",
       "      <td>13</td>\n",
       "      <td>1</td>\n",
       "      <td>1</td>\n",
       "      <td>17</td>\n",
       "      <td>1701</td>\n",
       "      <td>88</td>\n",
       "      <td>55555</td>\n",
       "      <td>68</td>\n",
       "    </tr>\n",
       "    <tr>\n",
       "      <th>2</th>\n",
       "      <td>3</td>\n",
       "      <td>2</td>\n",
       "      <td>1</td>\n",
       "      <td>2022</td>\n",
       "      <td>12</td>\n",
       "      <td>8</td>\n",
       "      <td>1</td>\n",
       "      <td>218</td>\n",
       "      <td>13</td>\n",
       "      <td>1</td>\n",
       "      <td>...</td>\n",
       "      <td>170010</td>\n",
       "      <td>218</td>\n",
       "      <td>13</td>\n",
       "      <td>1</td>\n",
       "      <td>11</td>\n",
       "      <td>4</td>\n",
       "      <td>401</td>\n",
       "      <td>88</td>\n",
       "      <td>88888</td>\n",
       "      <td>14</td>\n",
       "    </tr>\n",
       "  </tbody>\n",
       "</table>\n",
       "<p>3 rows × 25 columns</p>\n",
       "</div>"
      ],
      "text/plain": [
       "  indice tip_movi tip_naci anio_movi mes_movi dia_movi sex_migr nac_migr  \\\n",
       "0      1        2        1      2022        4       20        2      218   \n",
       "1      2        1        1      2022        5       26        2      218   \n",
       "2      3        2        1      2022       12        8        1      218   \n",
       "\n",
       "  subcont_nac cont_nac  ... lug_prod pais_res subcont_res cont_res jef_migr  \\\n",
       "0          13        1  ...    32017       32          13        1        1   \n",
       "1          13        1  ...   756006      218          13        1        1   \n",
       "2          13        1  ...   170010      218          13        1       11   \n",
       "\n",
       "  pro_jefm can_jefm cla_migr ocu_migr edad  \n",
       "0       17     1701       88    66666   23  \n",
       "1       17     1701       88    55555   68  \n",
       "2        4      401       88    88888   14  \n",
       "\n",
       "[3 rows x 25 columns]"
      ]
     },
     "execution_count": 24,
     "metadata": {},
     "output_type": "execute_result"
    }
   ],
   "source": [
    "nuevos_nombres = [\n",
    "    'indice','tip_movi', 'tip_naci', 'anio_movi', 'mes_movi', 'dia_movi', 'sex_migr', 'nac_migr', 'subcont_nac',\n",
    "    'cont_nac', 'via_tran', 'mot_viam', 'pais_prod', 'subcont_prod', 'cont_prod', 'lug_prod', 'pais_res',\n",
    "    'subcont_res', 'cont_res', 'jef_migr', 'pro_jefm', 'can_jefm', 'cla_migr', 'ocu_migr', 'edad'\n",
    "]\n",
    "data.columns = nuevos_nombres\n",
    "data.head(3)"
   ]
  },
  {
   "cell_type": "code",
   "execution_count": 26,
   "id": "492961d6-78ef-4097-9bb0-b55897619ceb",
   "metadata": {
    "tags": []
   },
   "outputs": [
    {
     "data": {
      "text/plain": [
       "Index(['indice', 'tip_movi', 'tip_naci', 'anio_movi', 'mes_movi', 'dia_movi',\n",
       "       'sex_migr', 'nac_migr', 'subcont_nac', 'cont_nac', 'via_tran',\n",
       "       'mot_viam', 'pais_prod', 'subcont_prod', 'cont_prod', 'lug_prod',\n",
       "       'pais_res', 'subcont_res', 'cont_res', 'jef_migr', 'pro_jefm',\n",
       "       'can_jefm', 'cla_migr', 'ocu_migr', 'edad'],\n",
       "      dtype='object')"
      ]
     },
     "execution_count": 26,
     "metadata": {},
     "output_type": "execute_result"
    }
   ],
   "source": [
    "data.columns"
   ]
  },
  {
   "cell_type": "code",
   "execution_count": 27,
   "id": "5ba84a8e-9ae2-47fa-9861-772d3a8c97e4",
   "metadata": {
    "tags": []
   },
   "outputs": [],
   "source": [
    "columnasEliminar = [\"indice\", \"sex_migr\", \"nac_migr\", \"subcont_nac\", \"subcont_nac\", \"subcont_prod\", \"cont_prod\", \"lug_prod\", \"pais_res\", \"subcont_res\", \"cont_res\", \"jef_migr\", \"pro_jefm\", \"can_jefm\", \"cla_migr\", \"ocu_migr\", \"edad\"]\n",
    "data = data.drop(columns=columnasEliminar)"
   ]
  },
  {
   "cell_type": "code",
   "execution_count": 28,
   "id": "14024d1d-4f46-4eb7-a60b-3d6f6bd08cf3",
   "metadata": {
    "tags": []
   },
   "outputs": [
    {
     "data": {
      "text/html": [
       "<div>\n",
       "<style scoped>\n",
       "    .dataframe tbody tr th:only-of-type {\n",
       "        vertical-align: middle;\n",
       "    }\n",
       "\n",
       "    .dataframe tbody tr th {\n",
       "        vertical-align: top;\n",
       "    }\n",
       "\n",
       "    .dataframe thead th {\n",
       "        text-align: right;\n",
       "    }\n",
       "</style>\n",
       "<table border=\"1\" class=\"dataframe\">\n",
       "  <thead>\n",
       "    <tr style=\"text-align: right;\">\n",
       "      <th></th>\n",
       "      <th>tip_movi</th>\n",
       "      <th>tip_naci</th>\n",
       "      <th>anio_movi</th>\n",
       "      <th>mes_movi</th>\n",
       "      <th>dia_movi</th>\n",
       "      <th>cont_nac</th>\n",
       "      <th>via_tran</th>\n",
       "      <th>mot_viam</th>\n",
       "      <th>pais_prod</th>\n",
       "    </tr>\n",
       "  </thead>\n",
       "  <tbody>\n",
       "    <tr>\n",
       "      <th>0</th>\n",
       "      <td>2</td>\n",
       "      <td>1</td>\n",
       "      <td>2022</td>\n",
       "      <td>4</td>\n",
       "      <td>20</td>\n",
       "      <td>1</td>\n",
       "      <td>1</td>\n",
       "      <td>5</td>\n",
       "      <td>32</td>\n",
       "    </tr>\n",
       "    <tr>\n",
       "      <th>1</th>\n",
       "      <td>1</td>\n",
       "      <td>1</td>\n",
       "      <td>2022</td>\n",
       "      <td>5</td>\n",
       "      <td>26</td>\n",
       "      <td>1</td>\n",
       "      <td>1</td>\n",
       "      <td>5</td>\n",
       "      <td>756</td>\n",
       "    </tr>\n",
       "    <tr>\n",
       "      <th>2</th>\n",
       "      <td>2</td>\n",
       "      <td>1</td>\n",
       "      <td>2022</td>\n",
       "      <td>12</td>\n",
       "      <td>8</td>\n",
       "      <td>1</td>\n",
       "      <td>2</td>\n",
       "      <td>5</td>\n",
       "      <td>170</td>\n",
       "    </tr>\n",
       "    <tr>\n",
       "      <th>3</th>\n",
       "      <td>2</td>\n",
       "      <td>1</td>\n",
       "      <td>2022</td>\n",
       "      <td>10</td>\n",
       "      <td>3</td>\n",
       "      <td>1</td>\n",
       "      <td>1</td>\n",
       "      <td>1</td>\n",
       "      <td>840</td>\n",
       "    </tr>\n",
       "    <tr>\n",
       "      <th>4</th>\n",
       "      <td>1</td>\n",
       "      <td>1</td>\n",
       "      <td>2022</td>\n",
       "      <td>2</td>\n",
       "      <td>1</td>\n",
       "      <td>1</td>\n",
       "      <td>1</td>\n",
       "      <td>5</td>\n",
       "      <td>724</td>\n",
       "    </tr>\n",
       "  </tbody>\n",
       "</table>\n",
       "</div>"
      ],
      "text/plain": [
       "  tip_movi tip_naci anio_movi mes_movi dia_movi cont_nac via_tran mot_viam  \\\n",
       "0        2        1      2022        4       20        1        1        5   \n",
       "1        1        1      2022        5       26        1        1        5   \n",
       "2        2        1      2022       12        8        1        2        5   \n",
       "3        2        1      2022       10        3        1        1        1   \n",
       "4        1        1      2022        2        1        1        1        5   \n",
       "\n",
       "  pais_prod  \n",
       "0        32  \n",
       "1       756  \n",
       "2       170  \n",
       "3       840  \n",
       "4       724  "
      ]
     },
     "execution_count": 28,
     "metadata": {},
     "output_type": "execute_result"
    }
   ],
   "source": [
    "data.head()"
   ]
  },
  {
   "cell_type": "code",
   "execution_count": 29,
   "id": "3bb41330-458c-49b0-b810-948cac8ab692",
   "metadata": {
    "tags": []
   },
   "outputs": [
    {
     "data": {
      "text/plain": [
       "(5052633, 9)"
      ]
     },
     "execution_count": 29,
     "metadata": {},
     "output_type": "execute_result"
    }
   ],
   "source": [
    "data.shape"
   ]
  },
  {
   "cell_type": "code",
   "execution_count": 30,
   "id": "156078d6-7b2e-41cf-b4bd-49a6b03c0911",
   "metadata": {
    "tags": []
   },
   "outputs": [
    {
     "name": "stdout",
     "output_type": "stream",
     "text": [
      "         tip_movi  tip_naci  anio_movi  mes_movi  dia_movi  cont_nac  \\\n",
      "0           False     False      False     False     False     False   \n",
      "1           False     False      False     False     False     False   \n",
      "2           False     False      False     False     False     False   \n",
      "3           False     False      False     False     False     False   \n",
      "4           False     False      False     False     False     False   \n",
      "...           ...       ...        ...       ...       ...       ...   \n",
      "5052628     False     False      False     False     False     False   \n",
      "5052629     False     False      False     False     False     False   \n",
      "5052630     False     False      False     False     False     False   \n",
      "5052631     False     False      False     False     False     False   \n",
      "5052632     False     False      False     False     False     False   \n",
      "\n",
      "         via_tran  mot_viam  pais_prod  \n",
      "0           False     False      False  \n",
      "1           False     False      False  \n",
      "2           False     False      False  \n",
      "3           False     False      False  \n",
      "4           False     False      False  \n",
      "...           ...       ...        ...  \n",
      "5052628     False     False      False  \n",
      "5052629     False     False      False  \n",
      "5052630     False     False      False  \n",
      "5052631     False     False      False  \n",
      "5052632     False     False      False  \n",
      "\n",
      "[5052633 rows x 9 columns]\n"
     ]
    }
   ],
   "source": [
    "# Verificar la presencia de valores nulos en el DataFrame\n",
    "valores_nulos = data.isnull()\n",
    "\n",
    "# Mostrar el DataFrame de valores nulos\n",
    "print(valores_nulos)"
   ]
  },
  {
   "cell_type": "code",
   "execution_count": 31,
   "id": "9d666492-4d88-494a-aeae-bf5503671c33",
   "metadata": {
    "tags": []
   },
   "outputs": [
    {
     "name": "stdout",
     "output_type": "stream",
     "text": [
      "tip_movi     False\n",
      "tip_naci     False\n",
      "anio_movi    False\n",
      "mes_movi     False\n",
      "dia_movi     False\n",
      "cont_nac     False\n",
      "via_tran     False\n",
      "mot_viam     False\n",
      "pais_prod    False\n",
      "dtype: bool\n"
     ]
    }
   ],
   "source": [
    "# Verificar si hay al menos un valor nulo en cada columna\n",
    "valores_nulos_por_columna = valores_nulos.any()\n",
    "\n",
    "# Mostrar los resultados por columna\n",
    "print(valores_nulos_por_columna)"
   ]
  },
  {
   "cell_type": "code",
   "execution_count": 32,
   "id": "1889115e-436e-4677-8794-72399d4bc4a9",
   "metadata": {
    "tags": []
   },
   "outputs": [
    {
     "name": "stdout",
     "output_type": "stream",
     "text": [
      "Total de valores nulos: 0\n"
     ]
    }
   ],
   "source": [
    "# Calcular la cantidad total de valores nulos en el DataFrame\n",
    "total_valores_nulos = valores_nulos.sum().sum()\n",
    "\n",
    "# Mostrar la cantidad total de valores nulos\n",
    "print(\"Total de valores nulos:\", total_valores_nulos)"
   ]
  },
  {
   "cell_type": "code",
   "execution_count": 33,
   "id": "23ce593d-ba7f-4189-a28c-c1de9f4af0fb",
   "metadata": {
    "tags": []
   },
   "outputs": [
    {
     "data": {
      "text/html": [
       "<div>\n",
       "<style scoped>\n",
       "    .dataframe tbody tr th:only-of-type {\n",
       "        vertical-align: middle;\n",
       "    }\n",
       "\n",
       "    .dataframe tbody tr th {\n",
       "        vertical-align: top;\n",
       "    }\n",
       "\n",
       "    .dataframe thead th {\n",
       "        text-align: right;\n",
       "    }\n",
       "</style>\n",
       "<table border=\"1\" class=\"dataframe\">\n",
       "  <thead>\n",
       "    <tr style=\"text-align: right;\">\n",
       "      <th></th>\n",
       "      <th>tip_movi</th>\n",
       "      <th>tip_naci</th>\n",
       "      <th>anio_movi</th>\n",
       "      <th>mes_movi</th>\n",
       "      <th>dia_movi</th>\n",
       "      <th>via_tran</th>\n",
       "      <th>mot_viam</th>\n",
       "      <th>pais_prod</th>\n",
       "    </tr>\n",
       "  </thead>\n",
       "  <tbody>\n",
       "    <tr>\n",
       "      <th>0</th>\n",
       "      <td>2</td>\n",
       "      <td>1</td>\n",
       "      <td>2022</td>\n",
       "      <td>4</td>\n",
       "      <td>20</td>\n",
       "      <td>1</td>\n",
       "      <td>5</td>\n",
       "      <td>32</td>\n",
       "    </tr>\n",
       "    <tr>\n",
       "      <th>1</th>\n",
       "      <td>1</td>\n",
       "      <td>1</td>\n",
       "      <td>2022</td>\n",
       "      <td>5</td>\n",
       "      <td>26</td>\n",
       "      <td>1</td>\n",
       "      <td>5</td>\n",
       "      <td>756</td>\n",
       "    </tr>\n",
       "    <tr>\n",
       "      <th>2</th>\n",
       "      <td>2</td>\n",
       "      <td>1</td>\n",
       "      <td>2022</td>\n",
       "      <td>12</td>\n",
       "      <td>8</td>\n",
       "      <td>2</td>\n",
       "      <td>5</td>\n",
       "      <td>170</td>\n",
       "    </tr>\n",
       "    <tr>\n",
       "      <th>3</th>\n",
       "      <td>2</td>\n",
       "      <td>1</td>\n",
       "      <td>2022</td>\n",
       "      <td>10</td>\n",
       "      <td>3</td>\n",
       "      <td>1</td>\n",
       "      <td>1</td>\n",
       "      <td>840</td>\n",
       "    </tr>\n",
       "    <tr>\n",
       "      <th>4</th>\n",
       "      <td>1</td>\n",
       "      <td>1</td>\n",
       "      <td>2022</td>\n",
       "      <td>2</td>\n",
       "      <td>1</td>\n",
       "      <td>1</td>\n",
       "      <td>5</td>\n",
       "      <td>724</td>\n",
       "    </tr>\n",
       "  </tbody>\n",
       "</table>\n",
       "</div>"
      ],
      "text/plain": [
       "  tip_movi tip_naci anio_movi mes_movi dia_movi via_tran mot_viam pais_prod\n",
       "0        2        1      2022        4       20        1        5        32\n",
       "1        1        1      2022        5       26        1        5       756\n",
       "2        2        1      2022       12        8        2        5       170\n",
       "3        2        1      2022       10        3        1        1       840\n",
       "4        1        1      2022        2        1        1        5       724"
      ]
     },
     "execution_count": 33,
     "metadata": {},
     "output_type": "execute_result"
    }
   ],
   "source": [
    "columnasEliminar = [\"cont_nac\"]\n",
    "data = data.drop(columns=columnasEliminar)\n",
    "data.head()"
   ]
  },
  {
   "cell_type": "code",
   "execution_count": 35,
   "id": "7abb98bf-5332-4d98-8fc2-6b2c819b0eaf",
   "metadata": {
    "tags": []
   },
   "outputs": [
    {
     "name": "stdout",
     "output_type": "stream",
     "text": [
      "(5052633, 8)\n",
      "tip_movi     object\n",
      "tip_naci     object\n",
      "anio_movi    object\n",
      "mes_movi     object\n",
      "dia_movi     object\n",
      "via_tran     object\n",
      "mot_viam     object\n",
      "pais_prod    object\n",
      "dtype: object\n"
     ]
    }
   ],
   "source": [
    "print(data.shape)\n",
    "print(data.dtypes)"
   ]
  },
  {
   "cell_type": "code",
   "execution_count": 38,
   "id": "6cbef474-aecb-40fd-9915-5c46344ae8f7",
   "metadata": {
    "tags": []
   },
   "outputs": [
    {
     "name": "stdout",
     "output_type": "stream",
     "text": [
      "Cantidad de valores de 'tip_movi' igual a 2: 2595089\n"
     ]
    }
   ],
   "source": [
    "# Contar cuántos valores de 'tip_movi' son iguales a 2\n",
    "contador = (data['tip_movi'] == '2').sum()\n",
    "\n",
    "# Mostrar el resultado\n",
    "print(\"Cantidad de valores de 'tip_movi' igual a 2:\", contador)"
   ]
  },
  {
   "cell_type": "code",
   "execution_count": null,
   "id": "8eddabd3-8d39-4c13-9c3d-68ae250f3bdf",
   "metadata": {},
   "outputs": [],
   "source": []
  }
 ],
 "metadata": {
  "kernelspec": {
   "display_name": "Python 3 (ipykernel)",
   "language": "python",
   "name": "python3"
  },
  "language_info": {
   "codemirror_mode": {
    "name": "ipython",
    "version": 3
   },
   "file_extension": ".py",
   "mimetype": "text/x-python",
   "name": "python",
   "nbconvert_exporter": "python",
   "pygments_lexer": "ipython3",
   "version": "3.11.3"
  }
 },
 "nbformat": 4,
 "nbformat_minor": 5
}
